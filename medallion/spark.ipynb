{
 "cells": [
  {
   "cell_type": "markdown",
   "id": "2ca28930",
   "metadata": {},
   "source": [
    "### Import Datasets"
   ]
  },
  {
   "cell_type": "code",
   "execution_count": 1,
   "id": "a2795490",
   "metadata": {},
   "outputs": [],
   "source": [
    "from pathlib import Path\n",
    "\n",
    "source_crm = Path.home() / 'data-engineering' / 'medallion' / 'datasets' / 'source_crm'\n",
    "source_erp = Path.home() / 'data-engineering' / 'medallion' / 'datasets' / 'source_erp'\n",
    "\n",
    "crm_cust_path = Path(source_crm / 'cust_info.csv')\n",
    "crm_prd_path = Path(source_crm / 'prd_info.csv')\n",
    "crm_sales_path = Path(source_crm / 'sales_details.csv')\n",
    "\n",
    "erp_cust_path = Path(source_erp / 'CUST_AZ12.csv')\n",
    "erp_loc_path = Path(source_erp / 'LOC_A101.csv')\n",
    "erp_prd_path = Path(source_erp / 'PX_CAT_G1V2.csv')"
   ]
  },
  {
   "cell_type": "code",
   "execution_count": 2,
   "id": "d85b6269",
   "metadata": {},
   "outputs": [],
   "source": [
    "from pyspark.sql import SparkSession\n",
    "spark = SparkSession.builder.appName('Medallion').getOrCreate()"
   ]
  },
  {
   "cell_type": "markdown",
   "id": "e749e8f2",
   "metadata": {},
   "source": [
    "### Explore Spark"
   ]
  },
  {
   "cell_type": "code",
   "execution_count": 3,
   "id": "43557a92",
   "metadata": {},
   "outputs": [
    {
     "data": {
      "text/html": [
       "\n",
       "            <div>\n",
       "                <p><b>SparkSession - in-memory</b></p>\n",
       "                \n",
       "        <div>\n",
       "            <p><b>SparkContext</b></p>\n",
       "\n",
       "            <p><a href=\"http://GNLP-084:4040\">Spark UI</a></p>\n",
       "\n",
       "            <dl>\n",
       "              <dt>Version</dt>\n",
       "                <dd><code>v3.5.5</code></dd>\n",
       "              <dt>Master</dt>\n",
       "                <dd><code>local[*]</code></dd>\n",
       "              <dt>AppName</dt>\n",
       "                <dd><code>Medallion</code></dd>\n",
       "            </dl>\n",
       "        </div>\n",
       "        \n",
       "            </div>\n",
       "        "
      ],
      "text/plain": [
       "<pyspark.sql.session.SparkSession at 0x2043b201be0>"
      ]
     },
     "execution_count": 3,
     "metadata": {},
     "output_type": "execute_result"
    }
   ],
   "source": [
    "spark"
   ]
  },
  {
   "cell_type": "code",
   "execution_count": 4,
   "id": "b8d599cb",
   "metadata": {},
   "outputs": [],
   "source": [
    "df_crm_cust = spark.read.csv(str(crm_cust_path), header=True, inferSchema=True)"
   ]
  },
  {
   "cell_type": "code",
   "execution_count": 5,
   "id": "753c3644",
   "metadata": {},
   "outputs": [
    {
     "data": {
      "text/plain": [
       "[Row(cst_id=11000, cst_key='AW00011000', cst_firstname=' Jon', cst_lastname='Yang ', cst_marital_status='M', cst_gndr='M', cst_create_date=datetime.date(2025, 10, 6)),\n",
       " Row(cst_id=11001, cst_key='AW00011001', cst_firstname='Eugene', cst_lastname='Huang  ', cst_marital_status='S', cst_gndr='M', cst_create_date=datetime.date(2025, 10, 6)),\n",
       " Row(cst_id=11002, cst_key='AW00011002', cst_firstname='Ruben', cst_lastname=' Torres', cst_marital_status='M', cst_gndr='M', cst_create_date=datetime.date(2025, 10, 6))]"
      ]
     },
     "execution_count": 5,
     "metadata": {},
     "output_type": "execute_result"
    }
   ],
   "source": [
    "df_crm_cust.head(3)"
   ]
  },
  {
   "cell_type": "code",
   "execution_count": 6,
   "id": "d926b068",
   "metadata": {},
   "outputs": [
    {
     "data": {
      "text/plain": [
       "pyspark.sql.dataframe.DataFrame"
      ]
     },
     "execution_count": 6,
     "metadata": {},
     "output_type": "execute_result"
    }
   ],
   "source": [
    "type(df_crm_cust)"
   ]
  },
  {
   "cell_type": "code",
   "execution_count": 7,
   "id": "e6f7ddd6",
   "metadata": {},
   "outputs": [
    {
     "name": "stdout",
     "output_type": "stream",
     "text": [
      "root\n",
      " |-- cst_id: integer (nullable = true)\n",
      " |-- cst_key: string (nullable = true)\n",
      " |-- cst_firstname: string (nullable = true)\n",
      " |-- cst_lastname: string (nullable = true)\n",
      " |-- cst_marital_status: string (nullable = true)\n",
      " |-- cst_gndr: string (nullable = true)\n",
      " |-- cst_create_date: date (nullable = true)\n",
      "\n"
     ]
    }
   ],
   "source": [
    "df_crm_cust.printSchema()"
   ]
  },
  {
   "cell_type": "code",
   "execution_count": 8,
   "id": "cd76c116",
   "metadata": {},
   "outputs": [
    {
     "data": {
      "text/plain": [
       "['cst_id',\n",
       " 'cst_key',\n",
       " 'cst_firstname',\n",
       " 'cst_lastname',\n",
       " 'cst_marital_status',\n",
       " 'cst_gndr',\n",
       " 'cst_create_date']"
      ]
     },
     "execution_count": 8,
     "metadata": {},
     "output_type": "execute_result"
    }
   ],
   "source": [
    "df_crm_cust.columns"
   ]
  },
  {
   "cell_type": "code",
   "execution_count": 9,
   "id": "b09a34c2",
   "metadata": {},
   "outputs": [
    {
     "name": "stdout",
     "output_type": "stream",
     "text": [
      "+-------------+------------+\n",
      "|cst_firstname|cst_lastname|\n",
      "+-------------+------------+\n",
      "|          Jon|       Yang |\n",
      "|       Eugene|     Huang  |\n",
      "|        Ruben|      Torres|\n",
      "|      Christy|         Zhu|\n",
      "|    Elizabeth|     Johnson|\n",
      "|        Julio|        Ruiz|\n",
      "|        Janet|     Alvarez|\n",
      "|        Marco|       Mehta|\n",
      "|          Rob|     Verhoff|\n",
      "|      Shannon|     Carlson|\n",
      "|    Jacquelyn|      Suarez|\n",
      "|       Curtis|          Lu|\n",
      "|       Lauren|      Walker|\n",
      "|         Ian |    Jenkins |\n",
      "|       Sydney|     Bennett|\n",
      "|        Chloe|       Young|\n",
      "|        Wyatt|        Hill|\n",
      "|      Shannon|        Wang|\n",
      "|     Clarence|         Rai|\n",
      "|         Luke|         Lal|\n",
      "+-------------+------------+\n",
      "only showing top 20 rows\n",
      "\n"
     ]
    }
   ],
   "source": [
    "df_crm_cust.select(['cst_firstname', 'cst_lastname']).show()"
   ]
  },
  {
   "cell_type": "code",
   "execution_count": 10,
   "id": "45ababd9",
   "metadata": {},
   "outputs": [
    {
     "data": {
      "text/plain": [
       "[('cst_id', 'int'),\n",
       " ('cst_key', 'string'),\n",
       " ('cst_firstname', 'string'),\n",
       " ('cst_lastname', 'string'),\n",
       " ('cst_marital_status', 'string'),\n",
       " ('cst_gndr', 'string'),\n",
       " ('cst_create_date', 'date')]"
      ]
     },
     "execution_count": 10,
     "metadata": {},
     "output_type": "execute_result"
    }
   ],
   "source": [
    "df_crm_cust.dtypes"
   ]
  },
  {
   "cell_type": "code",
   "execution_count": 11,
   "id": "3376fd8d",
   "metadata": {},
   "outputs": [
    {
     "name": "stdout",
     "output_type": "stream",
     "text": [
      "+-------+------------------+-----------+-------------+------------+------------------+--------+\n",
      "|summary|            cst_id|    cst_key|cst_firstname|cst_lastname|cst_marital_status|cst_gndr|\n",
      "+-------+------------------+-----------+-------------+------------+------------------+--------+\n",
      "|  count|             18490|      18494|        18486|       18487|             18487|   13916|\n",
      "|   mean|20244.491941590048|1.3451235E7|         NULL|        NULL|              NULL|    NULL|\n",
      "| stddev| 5337.733647606977|       NULL|         NULL|        NULL|              NULL|    NULL|\n",
      "|    min|             11000|   13451235|        Chloe|       Brown|                 M|       F|\n",
      "|    max|             29483|      SF566|          Zoe|    Zukowski|                 S|       M|\n",
      "+-------+------------------+-----------+-------------+------------+------------------+--------+\n",
      "\n"
     ]
    }
   ],
   "source": [
    "df_crm_cust.describe().show()"
   ]
  },
  {
   "cell_type": "code",
   "execution_count": 12,
   "id": "ebdc1d35",
   "metadata": {},
   "outputs": [
    {
     "name": "stdout",
     "output_type": "stream",
     "text": [
      "+------+----------+-------------+------------+------------------+--------+---------------+------------------+\n",
      "|cst_id|   cst_key|cst_firstname|cst_lastname|cst_marital_status|cst_gndr|cst_create_date|      cst_fullname|\n",
      "+------+----------+-------------+------------+------------------+--------+---------------+------------------+\n",
      "| 11000|AW00011000|          Jon|       Yang |                 M|       M|     2025-10-06|         Jon Yang |\n",
      "| 11001|AW00011001|       Eugene|     Huang  |                 S|       M|     2025-10-06|    Eugene Huang  |\n",
      "| 11002|AW00011002|        Ruben|      Torres|                 M|       M|     2025-10-06|     Ruben  Torres|\n",
      "| 11003|AW00011003|      Christy|         Zhu|                 S|       F|     2025-10-06|     Christy   Zhu|\n",
      "| 11004|AW00011004|    Elizabeth|     Johnson|                 S|       F|     2025-10-06| Elizabeth Johnson|\n",
      "+------+----------+-------------+------------+------------------+--------+---------------+------------------+\n",
      "only showing top 5 rows\n",
      "\n"
     ]
    }
   ],
   "source": [
    "### Adding Columns\n",
    "from pyspark.sql.functions import concat_ws\n",
    "\n",
    "df_crm_cust.withColumn(\n",
    "    'cst_fullname', \n",
    "    concat_ws(' ', df_crm_cust['cst_firstname'], df_crm_cust['cst_lastname'])\n",
    ").show(5)"
   ]
  },
  {
   "cell_type": "code",
   "execution_count": 13,
   "id": "917c9fe3",
   "metadata": {},
   "outputs": [
    {
     "name": "stdout",
     "output_type": "stream",
     "text": [
      "+------+----------+-------------+------------+------------------+----------+---------------+\n",
      "|cst_id|   cst_key|cst_firstname|cst_lastname|cst_marital_status|cst_gender|cst_create_date|\n",
      "+------+----------+-------------+------------+------------------+----------+---------------+\n",
      "| 11000|AW00011000|          Jon|       Yang |                 M|         M|     2025-10-06|\n",
      "| 11001|AW00011001|       Eugene|     Huang  |                 S|         M|     2025-10-06|\n",
      "| 11002|AW00011002|        Ruben|      Torres|                 M|         M|     2025-10-06|\n",
      "| 11003|AW00011003|      Christy|         Zhu|                 S|         F|     2025-10-06|\n",
      "| 11004|AW00011004|    Elizabeth|     Johnson|                 S|         F|     2025-10-06|\n",
      "+------+----------+-------------+------------+------------------+----------+---------------+\n",
      "only showing top 5 rows\n",
      "\n"
     ]
    }
   ],
   "source": [
    "### Rename columns\n",
    "df_crm_cust.withColumnRenamed('cst_gndr', 'cst_gender').show(5)"
   ]
  },
  {
   "cell_type": "code",
   "execution_count": 14,
   "id": "b0d2b91b",
   "metadata": {},
   "outputs": [
    {
     "name": "stdout",
     "output_type": "stream",
     "text": [
      "+------+-------------+------------+------------------+--------+---------------+\n",
      "|cst_id|cst_firstname|cst_lastname|cst_marital_status|cst_gndr|cst_create_date|\n",
      "+------+-------------+------------+------------------+--------+---------------+\n",
      "| 11000|          Jon|       Yang |                 M|       M|     2025-10-06|\n",
      "| 11001|       Eugene|     Huang  |                 S|       M|     2025-10-06|\n",
      "| 11002|        Ruben|      Torres|                 M|       M|     2025-10-06|\n",
      "| 11003|      Christy|         Zhu|                 S|       F|     2025-10-06|\n",
      "| 11004|    Elizabeth|     Johnson|                 S|       F|     2025-10-06|\n",
      "+------+-------------+------------+------------------+--------+---------------+\n",
      "only showing top 5 rows\n",
      "\n"
     ]
    }
   ],
   "source": [
    "### Drop columns\n",
    "df_crm_cust.drop('cst_key').show(5)"
   ]
  },
  {
   "cell_type": "code",
   "execution_count": 15,
   "id": "e0098c69",
   "metadata": {},
   "outputs": [],
   "source": [
    "from pyspark.sql.functions import col, isnan, isnull"
   ]
  },
  {
   "cell_type": "code",
   "execution_count": 16,
   "id": "ee9e2057",
   "metadata": {},
   "outputs": [
    {
     "data": {
      "text/plain": [
       "18490"
      ]
     },
     "execution_count": 16,
     "metadata": {},
     "output_type": "execute_result"
    }
   ],
   "source": [
    "(\n",
    "    df_crm_cust\n",
    "    .na\n",
    "    .drop(how='any', subset=['cst_id'])\n",
    "    .count()\n",
    "    #.show(10)\n",
    ")"
   ]
  },
  {
   "cell_type": "code",
   "execution_count": 17,
   "id": "26c32d0e",
   "metadata": {},
   "outputs": [
    {
     "name": "stdout",
     "output_type": "stream",
     "text": [
      "+------+--------+-------------+------------+------------------+--------+---------------+\n",
      "|cst_id| cst_key|cst_firstname|cst_lastname|cst_marital_status|cst_gndr|cst_create_date|\n",
      "+------+--------+-------------+------------+------------------+--------+---------------+\n",
      "|  NULL|   SF566|         NULL|        NULL|              NULL|    NULL|           NULL|\n",
      "|  NULL|    PO25|         NULL|        NULL|              NULL|    NULL|           NULL|\n",
      "|  NULL|13451235|         NULL|        NULL|              NULL|    NULL|           NULL|\n",
      "|  NULL|  A01Ass|         NULL|        NULL|              NULL|    NULL|           NULL|\n",
      "+------+--------+-------------+------------+------------------+--------+---------------+\n",
      "\n"
     ]
    }
   ],
   "source": [
    "# Count nulls in a specific column\n",
    "df_crm_cust \\\n",
    ".filter(col('cst_id').isNull()) \\\n",
    ".show() \\\n",
    "#.count()"
   ]
  },
  {
   "cell_type": "code",
   "execution_count": 18,
   "id": "2526568a",
   "metadata": {},
   "outputs": [
    {
     "name": "stdout",
     "output_type": "stream",
     "text": [
      "+------+--------+-------------+------------+------------------+--------+---------------+\n",
      "|cst_id| cst_key|cst_firstname|cst_lastname|cst_marital_status|cst_gndr|cst_create_date|\n",
      "+------+--------+-------------+------------+------------------+--------+---------------+\n",
      "|  NULL|   SF566|         NULL|        NULL|              NULL|    NULL|           NULL|\n",
      "|  NULL|    PO25|         NULL|        NULL|              NULL|    NULL|           NULL|\n",
      "|  NULL|13451235|         NULL|        NULL|              NULL|    NULL|           NULL|\n",
      "|  NULL|  A01Ass|         NULL|        NULL|              NULL|    NULL|           NULL|\n",
      "+------+--------+-------------+------------+------------------+--------+---------------+\n",
      "\n"
     ]
    }
   ],
   "source": [
    "# Check for NaN or Null values\n",
    "df_crm_cust \\\n",
    ".filter(isnull('cst_id') | isnan('cst_id')) \\\n",
    ".show() \\\n",
    "#.count()"
   ]
  },
  {
   "cell_type": "markdown",
   "id": "e5efee18",
   "metadata": {},
   "source": [
    "### Stage 1: Data Loading and Cleaning"
   ]
  },
  {
   "cell_type": "code",
   "execution_count": 19,
   "id": "1e053547",
   "metadata": {},
   "outputs": [],
   "source": [
    "df_crm_cust = spark.read.csv(str(crm_cust_path), header=True, inferSchema=True)\n",
    "df_crm_prd = spark.read.csv(str(crm_prd_path), header=True, inferSchema=True)\n",
    "df_crm_sales = spark.read.csv(str(crm_sales_path), header=True, inferSchema=True)\n",
    "\n",
    "df_erp_cust = spark.read.csv(str(erp_cust_path), header=True, inferSchema=True)\n",
    "df_erp_loc = spark.read.csv(str(erp_loc_path), header=True, inferSchema=True)\n",
    "df_erp_prd = spark.read.csv(str(erp_prd_path), header=True, inferSchema=True)"
   ]
  },
  {
   "cell_type": "markdown",
   "id": "4cb9f200",
   "metadata": {},
   "source": [
    "#### CRM Customer"
   ]
  },
  {
   "cell_type": "code",
   "execution_count": 20,
   "id": "aa75daed",
   "metadata": {},
   "outputs": [
    {
     "name": "stdout",
     "output_type": "stream",
     "text": [
      "+------+-----+\n",
      "|cst_id|count|\n",
      "+------+-----+\n",
      "| 29483|    2|\n",
      "|  NULL|    4|\n",
      "| 29473|    2|\n",
      "| 29449|    2|\n",
      "| 29466|    3|\n",
      "| 29433|    2|\n",
      "+------+-----+\n",
      "\n"
     ]
    }
   ],
   "source": [
    "df_crm_cust.groupBy(df_crm_cust['cst_id']) \\\n",
    "    .count() \\\n",
    "    .filter(\"count > 1\") \\\n",
    "    .show()"
   ]
  },
  {
   "cell_type": "code",
   "execution_count": 21,
   "id": "017518c1",
   "metadata": {},
   "outputs": [
    {
     "name": "stdout",
     "output_type": "stream",
     "text": [
      "+------+----------+-------------+------------+------------------+--------+---------------+\n",
      "|cst_id|   cst_key|cst_firstname|cst_lastname|cst_marital_status|cst_gndr|cst_create_date|\n",
      "+------+----------+-------------+------------+------------------+--------+---------------+\n",
      "| 29473|AW00029473|       Carmen|        NULL|              NULL|    NULL|     2026-01-25|\n",
      "| 29473|AW00029473|       Carmen|      Subram|                 S|    NULL|     2026-01-26|\n",
      "+------+----------+-------------+------------+------------------+--------+---------------+\n",
      "\n"
     ]
    }
   ],
   "source": [
    "df_crm_cust \\\n",
    ".filter(\"cst_id = 29473\") \\\n",
    ".show(5)"
   ]
  },
  {
   "cell_type": "code",
   "execution_count": 22,
   "id": "d00ac4ee",
   "metadata": {},
   "outputs": [
    {
     "name": "stdout",
     "output_type": "stream",
     "text": [
      "+------------+-----------+---------------+----------+---------+--------------+-------+----------+\n",
      "|customer_key|customer_id|customer_number|first_name|last_name|marital_status| gender|created_at|\n",
      "+------------+-----------+---------------+----------+---------+--------------+-------+----------+\n",
      "|        9002|      20001|     AW00020001|    Jordan|     Hill|        Single| Female|2026-01-05|\n",
      "|         559|      11558|     AW00011558|      Ivan| Malhotra|        Single|Unknown|2025-10-08|\n",
      "|       15439|      26438|     AW00026438|    Alisha|     Shen|       Married| Female|2026-01-14|\n",
      "|        2661|      13660|     AW00013660|     Ethan|    Davis|       Married|Unknown|2025-10-12|\n",
      "|        4073|      15072|     AW00015072|   Whitney|   Subram|        Single|Unknown|2025-10-12|\n",
      "+------------+-----------+---------------+----------+---------+--------------+-------+----------+\n",
      "\n"
     ]
    }
   ],
   "source": [
    "from pyspark.sql.window import Window\n",
    "from pyspark.sql.functions import row_number, col, desc, trim, when, upper, rand\n",
    "\n",
    "DF_crm_cust = (\n",
    "    df_crm_cust\n",
    "    .dropna(subset=['cst_id'])\n",
    "    .withColumn(\n",
    "        \"row_num\", \n",
    "        row_number().over(\n",
    "            Window.partitionBy(\"cst_id\").orderBy(desc(\"cst_create_date\"))\n",
    "        )\n",
    "    )\n",
    "    .filter(col(\"row_num\") == 1)\n",
    "    .drop(\"row_num\")\n",
    "    .withColumn(\"cst_firstname\", trim(\"cst_firstname\"))\n",
    "    .withColumn(\"cst_lastname\", trim(\"cst_lastname\"))\n",
    "    .withColumn(\n",
    "        \"cst_gndr\",\n",
    "        when(upper(trim(col(\"cst_gndr\"))) == \"MALE\", \"Male\")\n",
    "        .when(upper(trim(col(\"cst_gndr\"))) == \"FEMALE\", \"Female\")\n",
    "        .when(upper(trim(col(\"cst_gndr\"))) == \"M\", \"Male\")\n",
    "        .when(upper(trim(col(\"cst_gndr\"))) == \"F\", \"Female\")\n",
    "        .otherwise(\"Unknown\")\n",
    "    )\n",
    "    .withColumn(\n",
    "        \"cst_marital_status\",\n",
    "        when(upper(trim(col(\"cst_marital_status\"))) == \"MARRIED\", \"Married\")\n",
    "        .when(upper(trim(col(\"cst_marital_status\"))) == \"SINGLE\", \"Single\")\n",
    "        .when(upper(trim(col(\"cst_marital_status\"))) == \"M\", \"Married\")\n",
    "        .when(upper(trim(col(\"cst_marital_status\"))) == \"S\", \"Single\")\n",
    "        .otherwise(\"Unknown\")\n",
    "    )\n",
    "    .withColumn(\n",
    "        \"customer_key\", \n",
    "        row_number().over(\n",
    "            Window.partitionBy().orderBy(\"cst_id\")\n",
    "        )\n",
    "    )\n",
    "    .sort(\"cst_id\")\n",
    "    .select(\"customer_key\", \"cst_id\", \"cst_key\", \"cst_firstname\", \"cst_lastname\", \"cst_marital_status\", \"cst_gndr\", \"cst_create_date\")\n",
    "    .toDF(\"customer_key\", \"customer_id\", \"customer_number\", \"first_name\", \"last_name\", \"marital_status\", \"gender\", \"created_at\")\n",
    "    #.count()\n",
    ")\n",
    "\n",
    "(\n",
    "    DF_crm_cust \n",
    "    .orderBy(rand()) \n",
    "    .limit(5) \n",
    "    .show()\n",
    ")"
   ]
  },
  {
   "cell_type": "markdown",
   "id": "24fa0497",
   "metadata": {},
   "source": [
    "#### CRM Product"
   ]
  },
  {
   "cell_type": "code",
   "execution_count": 23,
   "id": "bfa3a358",
   "metadata": {},
   "outputs": [
    {
     "name": "stdout",
     "output_type": "stream",
     "text": [
      "+------+-------+------+--------+--------+------------+----------+\n",
      "|prd_id|prd_key|prd_nm|prd_cost|prd_line|prd_start_dt|prd_end_dt|\n",
      "+------+-------+------+--------+--------+------------+----------+\n",
      "+------+-------+------+--------+--------+------------+----------+\n",
      "\n"
     ]
    }
   ],
   "source": [
    "df_crm_prd.filter(col(\"prd_cost\") < 0).show()"
   ]
  },
  {
   "cell_type": "code",
   "execution_count": 24,
   "id": "4a109026",
   "metadata": {},
   "outputs": [
    {
     "name": "stdout",
     "output_type": "stream",
     "text": [
      "+-----------+----------+-----------+--------------+--------------------------+------------+----+----------+----------+\n",
      "|product_key|product_id|category_id|product_number|product_name              |product_line|cost|started_at|ended_at  |\n",
      "+-----------+----------+-----------+--------------+--------------------------+------------+----+----------+----------+\n",
      "|143        |352       |BI_MB      |BK_M68S_38    |Mountain-200 Silver-38    |Mountain    |1118|2012-07-01|2013-06-30|\n",
      "|134        |343       |BI_RB      |BK_R50B_52    |Road-650 Black-52         |Road        |487 |2012-07-01|NULL      |\n",
      "|322        |531       |CO_MF      |FR_M21B_42    |LL Mountain Frame-Black-42|Mountain    |137 |2013-07-01|NULL      |\n",
      "|157        |366       |BI_MB      |BK_M47B_44    |Mountain-300 Black-44     |Mountain    |598 |2012-07-01|NULL      |\n",
      "|89         |298       |CO_MF      |FR_M94B_42    |HL Mountain Frame-Black-42|Mountain    |739 |2013-07-01|NULL      |\n",
      "+-----------+----------+-----------+--------------+--------------------------+------------+----+----------+----------+\n",
      "\n"
     ]
    }
   ],
   "source": [
    "from pyspark.sql.functions import regexp_replace, substring_index, substring, lead\n",
    "\n",
    "DF_crm_prd = (\n",
    "    df_crm_prd\n",
    "    .withColumn(\"prd_key\", regexp_replace(\"prd_key\", \"-\", \"_\"))\n",
    "    .withColumn(\"cat_id\", substring_index(\"prd_key\", \"_\", 2))\n",
    "    .withColumn(\"prd_key\", substring(\"prd_key\", 7, 100))\n",
    "    .withColumn(\"prd_nm\", regexp_replace(\"prd_nm\", r\"\\s*-\\s*\", \"-\"))\n",
    "    .withColumn(\n",
    "        \"prd_line\",\n",
    "        when(upper(trim(col(\"prd_line\"))) == \"M\", \"Mountain\")\n",
    "        .when(upper(trim(col(\"prd_line\"))) == \"R\", \"Road\")\n",
    "        .when(upper(trim(col(\"prd_line\"))) == \"T\", \"Touring\")\n",
    "        .when(upper(trim(col(\"prd_line\"))) == \"S\", \"Other Sales\")\n",
    "        .otherwise(\"Unknown\")\n",
    "    )    \n",
    "    .withColumn(\n",
    "        \"prd_end_dt\", \n",
    "        lead(\"prd_start_dt\").over(\n",
    "            Window.partitionBy(\"prd_nm\").orderBy(\"prd_start_dt\")\n",
    "        ) - 1\n",
    "    )\n",
    "    .withColumn(\n",
    "        \"product_key\", \n",
    "        row_number().over(\n",
    "            Window.partitionBy().orderBy(\"prd_id\")\n",
    "        )\n",
    "    )\n",
    "    .fillna({\"prd_cost\": 0})\n",
    "    .sort(\"prd_id\")\n",
    "    .select(['product_key', 'prd_id', 'cat_id', 'prd_key', 'prd_nm', 'prd_line', 'prd_cost', 'prd_start_dt', 'prd_end_dt'])\n",
    "    .toDF(\"product_key\", \"product_id\", \"category_id\", \"product_number\", \"product_name\", \"product_line\", \"cost\", \"started_at\", \"ended_at\")\n",
    "    #.orderBy(rand()).limit(5)\n",
    "    #.show(truncate=False)\n",
    ")\n",
    "\n",
    "(\n",
    "    DF_crm_prd\n",
    "    .orderBy(rand())\n",
    "    .limit(5)\n",
    "    .show(truncate=False)\n",
    ")"
   ]
  },
  {
   "cell_type": "markdown",
   "id": "fb73cd2f",
   "metadata": {},
   "source": [
    "#### CRM Sales"
   ]
  },
  {
   "cell_type": "code",
   "execution_count": 25,
   "id": "72277889",
   "metadata": {},
   "outputs": [
    {
     "name": "stdout",
     "output_type": "stream",
     "text": [
      "root\n",
      " |-- sls_ord_num: string (nullable = true)\n",
      " |-- sls_prd_key: string (nullable = true)\n",
      " |-- sls_cust_id: integer (nullable = true)\n",
      " |-- sls_order_dt: integer (nullable = true)\n",
      " |-- sls_ship_dt: integer (nullable = true)\n",
      " |-- sls_due_dt: integer (nullable = true)\n",
      " |-- sls_sales: integer (nullable = true)\n",
      " |-- sls_quantity: integer (nullable = true)\n",
      " |-- sls_price: integer (nullable = true)\n",
      "\n"
     ]
    }
   ],
   "source": [
    "df_crm_sales.printSchema()"
   ]
  },
  {
   "cell_type": "code",
   "execution_count": 26,
   "id": "0adedbfe",
   "metadata": {},
   "outputs": [
    {
     "data": {
      "text/plain": [
       "17"
      ]
     },
     "execution_count": 26,
     "metadata": {},
     "output_type": "execute_result"
    }
   ],
   "source": [
    "df_crm_sales \\\n",
    ".filter(\"sls_order_dt = 0\") \\\n",
    ".count() \\\n",
    "#.show()"
   ]
  },
  {
   "cell_type": "code",
   "execution_count": 27,
   "id": "efc2909f",
   "metadata": {},
   "outputs": [
    {
     "name": "stdout",
     "output_type": "stream",
     "text": [
      "+-----------+-----------+-----------+------------+-----------+----------+---------+------------+---------+\n",
      "|sls_ord_num|sls_prd_key|sls_cust_id|sls_order_dt|sls_ship_dt|sls_due_dt|sls_sales|sls_quantity|sls_price|\n",
      "+-----------+-----------+-----------+------------+-----------+----------+---------+------------+---------+\n",
      "|    SO51259|    WB-H098|      11433|    20130101|   20130108|  20130113|       10|           2|     NULL|\n",
      "|    SO51298|    WB-H098|      27949|    20130104|   20130111|  20130116|       25|           5|     NULL|\n",
      "|    SO51387|  HL-U509-B|      11942|    20130109|   20130116|  20130121|       70|           2|     NULL|\n",
      "|    SO51479|    BC-R205|      16687|    20130116|   20130123|  20130128|        9|           1|     NULL|\n",
      "|    SO51479|    HL-U509|      16687|    20130116|   20130123|  20130128|       35|           1|     NULL|\n",
      "|    SO51942|    BC-M005|      11223|    20130129|   20130205|  20130210|      100|          10|     NULL|\n",
      "|    SO52187|    CL-9009|      18110|    20130203|   20130210|  20130215|       16|           2|     NULL|\n",
      "|    SO57804| BK-M38S-40|      16470|    20130511|   20130518|  20130523|      769|           1|     -769|\n",
      "|    SO57916|    TI-M602|      23024|    20130513|   20130520|  20130525|       30|           1|      -30|\n",
      "|    SO58326|    FE-6654|      12045|    20130520|   20130527|  20130601|       22|           1|      -22|\n",
      "|    SO58623| BK-R79Y-44|      17012|    20130525|   20130601|  20130606|     1701|           1|    -1701|\n",
      "|    SO58818|    TI-R092|      21387|    20130528|   20130604|  20130609|       21|           1|      -21|\n",
      "+-----------+-----------+-----------+------------+-----------+----------+---------+------------+---------+\n",
      "\n"
     ]
    }
   ],
   "source": [
    "df_crm_sales \\\n",
    ".filter((df_crm_sales[\"sls_price\"].isNull()) | (df_crm_sales[\"sls_price\"] < 0)) \\\n",
    ".show()"
   ]
  },
  {
   "cell_type": "code",
   "execution_count": 28,
   "id": "c0fc4654",
   "metadata": {},
   "outputs": [
    {
     "name": "stdout",
     "output_type": "stream",
     "text": [
      "+-----------+-----------+-----------+------------+-----------+----------+---------+------------+---------+\n",
      "|sls_ord_num|sls_prd_key|sls_cust_id|sls_order_dt|sls_ship_dt|sls_due_dt|sls_sales|sls_quantity|sls_price|\n",
      "+-----------+-----------+-----------+------------+-----------+----------+---------+------------+---------+\n",
      "+-----------+-----------+-----------+------------+-----------+----------+---------+------------+---------+\n",
      "\n"
     ]
    }
   ],
   "source": [
    "df_crm_sales \\\n",
    ".filter(df_crm_sales[\"sls_quantity\"] == 0) \\\n",
    ".show()"
   ]
  },
  {
   "cell_type": "code",
   "execution_count": 29,
   "id": "b67ced71",
   "metadata": {},
   "outputs": [
    {
     "name": "stdout",
     "output_type": "stream",
     "text": [
      "+-----------+-----------+-----------+------------+-----------+----------+---------+------------+---------+\n",
      "|sls_ord_num|sls_prd_key|sls_cust_id|sls_order_dt|sls_ship_dt|sls_due_dt|sls_sales|sls_quantity|sls_price|\n",
      "+-----------+-----------+-----------+------------+-----------+----------+---------+------------+---------+\n",
      "|    SO58335|    TI-M823|      13326|    20130520|   20130527|  20130601|       35|           2|       35|\n",
      "|    SO61548|  LJ-0192-L|      12386|    20130705|   20130712|  20130717|       50|           2|       50|\n",
      "|    SO61570|    CA-1098|      17809|    20130705|   20130712|  20130717|      -18|           1|        9|\n",
      "|    SO61636|    BC-M005|      12914|    20130706|   20130713|  20130718|        0|           1|       10|\n",
      "|    SO61879|  LJ-0192-X|      14455|    20130710|   20130717|  20130722|       50|           2|       50|\n",
      "|    SO67707|    TT-M928|      26046|    20131004|   20131011|  20131016|        5|           2|        5|\n",
      "|    SO67707|  VE-C304-S|      26046|    20131004|   20131011|  20131016|       64|           4|       64|\n",
      "|    SO67708|    TI-M267|      26501|    20131004|   20131011|  20131016|       25|           3|       25|\n",
      "|    SO67993|    PK-7098|      17084|    20131008|   20131015|  20131020|       40|           1|        2|\n",
      "|    SO68126|  LJ-0192-M|      13604|    20131010|   20131017|  20131022|        2|           1|       50|\n",
      "|    SO68418|  GL-H102-M|      25277|    20131015|   20131022|  20131027|       33|           1|       24|\n",
      "|    SO68551|    BC-R205|      22691|    20131017|   20131024|  20131029|        8|           1|        9|\n",
      "|    SO68889|    TT-R982|      14086|    20131022|   20131029|  20131103|        0|           1|        4|\n",
      "|    SO69066|  SJ-0194-L|      17923|    20131024|   20131031|  20131105|      -54|           1|       54|\n",
      "|    SO69215|    TI-M823|      16864|       32154|   20131102|  20131107|      -35|           1|       35|\n",
      "+-----------+-----------+-----------+------------+-----------+----------+---------+------------+---------+\n",
      "\n"
     ]
    }
   ],
   "source": [
    "from pyspark.sql.functions import abs\n",
    "\n",
    "df_crm_sales \\\n",
    ".where(\n",
    "    df_crm_sales[\"sls_sales\"] != (df_crm_sales[\"sls_quantity\"] * abs(df_crm_sales[\"sls_price\"]))\n",
    ") \\\n",
    ".show()"
   ]
  },
  {
   "cell_type": "code",
   "execution_count": 30,
   "id": "b16f74e9",
   "metadata": {},
   "outputs": [
    {
     "name": "stdout",
     "output_type": "stream",
     "text": [
      "+------------+--------------+-----------+----------+-------------+----------+------------+--------+------+\n",
      "|order_number|product_number|customer_id|order_date|shipping_date|  due_date|sales_amount|quantity| price|\n",
      "+------------+--------------+-----------+----------+-------------+----------+------------+--------+------+\n",
      "|     SO57483|       PK_7098|      26144|2013-05-05|   2013-05-12|2013-05-17|         2.0|       1|   2.0|\n",
      "|     SO55179|    BK_R89B_52|      18491|2013-03-29|   2013-04-05|2013-04-10|      2443.0|       1|2443.0|\n",
      "|     SO73432|       PK_7098|      29038|2013-12-19|   2013-12-26|2013-12-31|         2.0|       1|   2.0|\n",
      "|     SO58557|       TT_R982|      11330|2013-05-24|   2013-05-31|2013-06-05|         4.0|       1|   4.0|\n",
      "|     SO56517|     GL_H102_S|      24876|2013-04-20|   2013-04-27|2013-05-02|        24.0|       1|  24.0|\n",
      "+------------+--------------+-----------+----------+-------------+----------+------------+--------+------+\n",
      "\n"
     ]
    }
   ],
   "source": [
    "from pyspark.sql.functions import col, to_date, abs\n",
    "\n",
    "DF_crm_sales = (\n",
    "    df_crm_sales\n",
    "    .withColumn(\"sls_prd_key\", regexp_replace(\"sls_prd_key\", \"-\", \"_\"))\n",
    "    .withColumn(\n",
    "        \"sls_order_dt\", \n",
    "        to_date(col(\"sls_order_dt\").cast(\"string\"), \"yyyyMMdd\")\n",
    "    )\n",
    "    .withColumn(\n",
    "        \"sls_ship_dt\", \n",
    "        to_date(col(\"sls_ship_dt\").cast(\"string\"), \"yyyyMMdd\")\n",
    "    )\n",
    "    .withColumn(\n",
    "        \"sls_due_dt\", \n",
    "        to_date(col(\"sls_due_dt\").cast(\"string\"), \"yyyyMMdd\")\n",
    "    )\n",
    "    .withColumn(\n",
    "        \"sls_price\",\n",
    "        when(\n",
    "            (col(\"sls_price\").isNull()) | (col(\"sls_price\") < 0),\n",
    "            col(\"sls_sales\") / col(\"sls_quantity\")\n",
    "        ).otherwise(col(\"sls_price\"))\n",
    "    )\n",
    "    .withColumn(\n",
    "        \"sls_sales\",\n",
    "        when(\n",
    "            (col(\"sls_price\").isNull()) |\n",
    "            (col(\"sls_price\") < 0) |\n",
    "            (col(\"sls_sales\") != (col(\"sls_quantity\") * abs(col(\"sls_price\")))),\n",
    "            col(\"sls_quantity\") * abs(col(\"sls_price\"))\n",
    "        ).otherwise(col(\"sls_sales\"))\n",
    "    )\n",
    "    .sort(\"sls_ord_num\")\n",
    "    .toDF(\"order_number\", \"product_number\", \"customer_id\", \"order_date\", \"shipping_date\", \"due_date\", \"sales_amount\", \"quantity\", \"price\")\n",
    "    #.orderBy(rand()).limit(5)\n",
    "    #.show(truncate=False)\n",
    ")\n",
    "\n",
    "DF_crm_sales.orderBy(rand()).limit(5).show()"
   ]
  },
  {
   "cell_type": "markdown",
   "id": "1ae5e7a3",
   "metadata": {},
   "source": [
    "#### ERP Customer"
   ]
  },
  {
   "cell_type": "code",
   "execution_count": 31,
   "id": "54020e3b",
   "metadata": {},
   "outputs": [
    {
     "name": "stdout",
     "output_type": "stream",
     "text": [
      "+-------------+----------+------+\n",
      "|          CID|     BDATE|   GEN|\n",
      "+-------------+----------+------+\n",
      "|NASAW00011257|2050-07-06|Female|\n",
      "|NASAW00011410|2042-02-22|  Male|\n",
      "|NASAW00011551|2050-05-21|  Male|\n",
      "|NASAW00011562|2038-10-17|  Male|\n",
      "|NASAW00011581|2045-03-03|Female|\n",
      "|NASAW00011775|2050-11-22|Female|\n",
      "|NASAW00011912|2066-06-16|Female|\n",
      "|NASAW00011915|9999-09-13|  Male|\n",
      "|NASAW00012123|2065-12-12|  Male|\n",
      "|NASAW00012188|9999-11-20|Female|\n",
      "|NASAW00012248|9999-09-11|  Male|\n",
      "|NASAW00013052|9999-05-10|  Male|\n",
      "|NASAW00013417|2050-09-07|  Male|\n",
      "|NASAW00020062|2080-03-15|  Male|\n",
      "|   AW00025441|2055-01-23|Female|\n",
      "|   AW00028543|2980-03-09|  Male|\n",
      "+-------------+----------+------+\n",
      "\n"
     ]
    }
   ],
   "source": [
    "from pyspark.sql.functions import current_date\n",
    "\n",
    "df_erp_cust.where(col(\"BDATE\") > current_date()).show()"
   ]
  },
  {
   "cell_type": "code",
   "execution_count": 32,
   "id": "c1ded1e5",
   "metadata": {},
   "outputs": [
    {
     "name": "stdout",
     "output_type": "stream",
     "text": [
      "+---------------+----------+------+\n",
      "|customer_number|birth_date|gender|\n",
      "+---------------+----------+------+\n",
      "|     AW00014955|1968-08-30|  Male|\n",
      "|     AW00011202|1958-08-22|Female|\n",
      "|     AW00028068|1975-04-12|Female|\n",
      "|     AW00026788|1983-11-08|Female|\n",
      "|     AW00022936|1967-01-29|Female|\n",
      "+---------------+----------+------+\n",
      "\n"
     ]
    }
   ],
   "source": [
    "from pyspark.sql.functions import expr, lit, current_date\n",
    "\n",
    "DF_erp_cust = (\n",
    "    df_erp_cust\n",
    "    .withColumn(\n",
    "        \"CID\", \n",
    "        when(upper(trim(col(\"CID\"))).like(\"NAS%\"), expr(\"substring(CID, 4, length(CID) - 3)\"))\n",
    "        .otherwise(col(\"CID\"))\n",
    "    )\n",
    "    .withColumn(\n",
    "        \"BDATE\",\n",
    "        when(col(\"BDATE\") > current_date(), lit(None))\n",
    "        .otherwise(col(\"BDATE\"))\n",
    "    )\n",
    "    .withColumn(\n",
    "        \"GEN\",\n",
    "        when(upper(trim(col(\"GEN\"))) == \"MALE\", \"Male\")\n",
    "        .when(upper(trim(col(\"GEN\"))) == \"FEMALE\", \"Female\")\n",
    "        .when(upper(trim(col(\"GEN\"))) == \"M\", \"Male\")\n",
    "        .when(upper(trim(col(\"GEN\"))) == \"F\", \"Female\")\n",
    "        .otherwise(\"Unknown\")\n",
    "    )\n",
    "    .toDF(\"customer_number\", \"birth_date\", \"gender\")\n",
    "    #.show()\n",
    ")\n",
    "\n",
    "DF_erp_cust.orderBy(rand()).limit(5).show()"
   ]
  },
  {
   "cell_type": "markdown",
   "id": "b98b297b",
   "metadata": {},
   "source": [
    "#### ERP Location"
   ]
  },
  {
   "cell_type": "code",
   "execution_count": 33,
   "id": "e12b0631",
   "metadata": {},
   "outputs": [
    {
     "name": "stdout",
     "output_type": "stream",
     "text": [
      "+--------------+\n",
      "|         CNTRY|\n",
      "+--------------+\n",
      "|       Germany|\n",
      "|        France|\n",
      "|              |\n",
      "| United States|\n",
      "|            DE|\n",
      "|              |\n",
      "|            US|\n",
      "|           USA|\n",
      "|        Canada|\n",
      "|              |\n",
      "|     Australia|\n",
      "|United Kingdom|\n",
      "|          NULL|\n",
      "+--------------+\n",
      "\n"
     ]
    }
   ],
   "source": [
    "df_erp_loc.select('CNTRY').distinct().show()"
   ]
  },
  {
   "cell_type": "code",
   "execution_count": 34,
   "id": "d2aef066",
   "metadata": {},
   "outputs": [
    {
     "name": "stdout",
     "output_type": "stream",
     "text": [
      "+---------------+-------------+\n",
      "|customer_number|      country|\n",
      "+---------------+-------------+\n",
      "|     AW00017095|       France|\n",
      "|     AW00028192|United States|\n",
      "|     AW00025340|       Canada|\n",
      "|     AW00022087|United States|\n",
      "|     AW00022322|       France|\n",
      "+---------------+-------------+\n",
      "\n"
     ]
    }
   ],
   "source": [
    "DF_erp_loc = (\n",
    "    df_erp_loc\n",
    "    .withColumn(\"CID\", regexp_replace(\"CID\", \"-\", \"\"))\n",
    "    .withColumn(\n",
    "        \"CNTRY\",\n",
    "        when(upper(trim(col(\"CNTRY\"))) == \"DE\", \"Germany\")\n",
    "        .when(upper(trim(col(\"CNTRY\"))) == \"US\", \"United States\")\n",
    "        .when(upper(trim(col(\"CNTRY\"))) == \"USA\", \"United States\")\n",
    "        .when(\n",
    "            (col(\"CNTRY\").isNull()) | (trim(col(\"CNTRY\")) == \"\"), \n",
    "            \"Unknown\"\n",
    "        )\n",
    "        .otherwise(col(\"CNTRY\"))\n",
    "    )\n",
    "    .toDF(\"customer_number\", \"country\")\n",
    "    #.select('CNTRY').distinct()\n",
    "    #.show()\n",
    ")\n",
    "\n",
    "DF_erp_loc.orderBy(rand()).limit(5).show()"
   ]
  },
  {
   "cell_type": "markdown",
   "id": "fdddfec2",
   "metadata": {},
   "source": [
    "#### ERP Product"
   ]
  },
  {
   "cell_type": "code",
   "execution_count": 35,
   "id": "7063125e",
   "metadata": {},
   "outputs": [
    {
     "name": "stdout",
     "output_type": "stream",
     "text": [
      "+-----------+-----------+--------------+--------------+\n",
      "|category_id|   category|   subcategory|is_maintenance|\n",
      "+-----------+-----------+--------------+--------------+\n",
      "|      BI_MB|      Bikes|Mountain Bikes|           Yes|\n",
      "|      AC_LO|Accessories|         Locks|           Yes|\n",
      "|      CO_CH| Components|        Chains|           Yes|\n",
      "|      BI_RB|      Bikes|    Road Bikes|           Yes|\n",
      "|      CO_PD| Components|        Pedals|            No|\n",
      "+-----------+-----------+--------------+--------------+\n",
      "\n"
     ]
    }
   ],
   "source": [
    "DF_erp_prd = (\n",
    "    df_erp_prd\n",
    "    .toDF(\"category_id\", \"category\", \"subcategory\", \"is_maintenance\")\n",
    ")\n",
    "\n",
    "DF_erp_prd.orderBy(rand()).limit(5).show()"
   ]
  },
  {
   "cell_type": "markdown",
   "id": "349fabcf",
   "metadata": {},
   "source": [
    "### Stage 2: Defining Dimension and Fact Tables"
   ]
  },
  {
   "cell_type": "code",
   "execution_count": 36,
   "id": "7b5f3931",
   "metadata": {},
   "outputs": [
    {
     "name": "stdout",
     "output_type": "stream",
     "text": [
      "+-----------+----------+--------------+-----------------------+------------+-----------+----------+--------------+-----------+----+----------+----------+\n",
      "|product_key|product_id|product_number|product_name           |product_line|category_id|category  |is_maintenance|subcategory|cost|started_at|ended_at  |\n",
      "+-----------+----------+--------------+-----------------------+------------+-----------+----------+--------------+-----------+----+----------+----------+\n",
      "|195        |404       |HB_R504       |LL Road Handlebars     |Road        |CO_HB      |Components|No            |Handlebars |20  |2013-07-01|NULL      |\n",
      "|174        |383       |BK_R64Y_40    |Road-550-W Yellow-40   |Road        |BI_RB      |Bikes     |Yes           |Road Bikes |606 |2012-07-01|2013-06-30|\n",
      "|231        |440       |FR_R92B_44    |HL Road Frame-Black-44 |Road        |CO_RF      |Components|Yes           |Road Frames|869 |2013-07-01|NULL      |\n",
      "|234        |443       |FR_R92B_52    |HL Road Frame-Black-52 |Road        |CO_RF      |Components|Yes           |Road Frames|722 |2012-07-01|2013-06-30|\n",
      "|307        |516       |SE_M798       |ML Mountain Seat/Saddle|Mountain    |CO_SA      |Components|No            |Saddles    |17  |2013-07-01|NULL      |\n",
      "+-----------+----------+--------------+-----------------------+------------+-----------+----------+--------------+-----------+----+----------+----------+\n",
      "\n"
     ]
    }
   ],
   "source": [
    "dim_products = (\n",
    "    DF_crm_prd\n",
    "    .join(DF_erp_prd, how=\"left\", on=\"category_id\")\n",
    "    .select(\"product_key\", \"product_id\",  \"product_number\", \"product_name\", \"product_line\", \"category_id\", \"category\", \"is_maintenance\", \"subcategory\", \"cost\", \"started_at\", \"ended_at\")\n",
    ")\n",
    "\n",
    "(\n",
    "    dim_products\n",
    "    .orderBy(rand())\n",
    "    .limit(5)\n",
    "    .show(truncate=False)\n",
    ")"
   ]
  },
  {
   "cell_type": "code",
   "execution_count": 37,
   "id": "5118bf76",
   "metadata": {},
   "outputs": [
    {
     "name": "stdout",
     "output_type": "stream",
     "text": [
      "+------------+-----------+---------------+----------+---------+-------------+--------------+------+----------+----------+\n",
      "|customer_key|customer_id|customer_number|first_name|last_name|      country|marital_status|gender|birth_date|created_at|\n",
      "+------------+-----------+---------------+----------+---------+-------------+--------------+------+----------+----------+\n",
      "|        7034|      18033|     AW00018033|    Evelyn|    Patel|      Germany|        Single|Female|1981-11-17|2026-01-04|\n",
      "|       10006|      21005|     AW00021005|   Barbara|      Zhu|       France|       Married|Female|1965-08-26|2026-01-05|\n",
      "|       15663|      26662|     AW00026662|      Lori|  Alvarez|    Australia|        Single|Female|1974-03-13|2026-01-14|\n",
      "|        6469|      17468|     AW00017468|  Jeremiah| Gonzalez|       Canada|       Married|  Male|1942-07-09|2026-01-04|\n",
      "|        7381|      18380|     AW00018380|   Kaitlyn|    Kelly|United States|       Married|Female|1961-12-25|2026-01-04|\n",
      "+------------+-----------+---------------+----------+---------+-------------+--------------+------+----------+----------+\n",
      "\n"
     ]
    }
   ],
   "source": [
    "dim_customers = (\n",
    "    DF_crm_cust\n",
    "    .join(DF_erp_cust, how=\"left\", on=\"customer_number\")\n",
    "    .join(DF_erp_loc, how=\"left\", on=\"customer_number\")\n",
    "    .select(\"customer_key\", \"customer_id\", \"customer_number\", \"first_name\", \"last_name\", \"country\", \"marital_status\", DF_crm_cust[\"gender\"], \"birth_date\", \"created_at\")\n",
    ")\n",
    "\n",
    "(\n",
    "    dim_customers\n",
    "    .orderBy(rand())\n",
    "    .limit(5)\n",
    "    .show()\n",
    ")"
   ]
  },
  {
   "cell_type": "code",
   "execution_count": 38,
   "id": "81774e2a",
   "metadata": {},
   "outputs": [
    {
     "name": "stdout",
     "output_type": "stream",
     "text": [
      "+------------+-----------+------------+----------+-------------+----------+------------+--------+-----+\n",
      "|order_number|product_key|customer_key|order_date|shipping_date|  due_date|sales_amount|quantity|price|\n",
      "+------------+-----------+------------+----------+-------------+----------+------------+--------+-----+\n",
      "|     SO70229|         15|         192|2013-11-06|   2013-11-13|2013-11-18|         9.0|       1|  9.0|\n",
      "|     SO66642|         12|         139|2013-09-19|   2013-09-26|2013-10-01|        35.0|       1| 35.0|\n",
      "|     SO64188|        271|         499|2013-08-14|   2013-08-21|2013-08-26|         2.0|       1|  2.0|\n",
      "|     SO51584|          8|       11275|2013-01-21|   2013-01-28|2013-02-02|        35.0|       1| 35.0|\n",
      "|     SO72711|        274|        5821|2013-12-09|   2013-12-16|2013-12-21|       120.0|       1|120.0|\n",
      "+------------+-----------+------------+----------+-------------+----------+------------+--------+-----+\n",
      "\n"
     ]
    }
   ],
   "source": [
    "fact_sales = (\n",
    "    DF_crm_sales\n",
    "    .join(dim_customers, how=\"left\", on=\"customer_id\")\n",
    "    .join(dim_products, how=\"left\", on=\"product_number\")\n",
    "    .select(\"order_number\", \"product_key\", \"customer_key\", \"order_date\", \"shipping_date\", \"due_date\", \"sales_amount\", \"quantity\", \"price\")\n",
    ")\n",
    "\n",
    "(\n",
    "    fact_sales\n",
    "    .orderBy(rand())\n",
    "    .limit(5)\n",
    "    .show()\n",
    ")"
   ]
  },
  {
   "cell_type": "code",
   "execution_count": 39,
   "id": "b5668235",
   "metadata": {},
   "outputs": [
    {
     "name": "stdout",
     "output_type": "stream",
     "text": [
      "+------------+-----------+------------+----------+-------------+--------+------------+--------+-----+\n",
      "|order_number|product_key|customer_key|order_date|shipping_date|due_date|sales_amount|quantity|price|\n",
      "+------------+-----------+------------+----------+-------------+--------+------------+--------+-----+\n",
      "+------------+-----------+------------+----------+-------------+--------+------------+--------+-----+\n",
      "\n"
     ]
    }
   ],
   "source": [
    "(\n",
    "    fact_sales\n",
    "    .filter(col('product_key').isNull())\n",
    "    .show()\n",
    "    #.count()\n",
    ")"
   ]
  },
  {
   "cell_type": "code",
   "execution_count": 40,
   "id": "03bc7781",
   "metadata": {},
   "outputs": [
    {
     "name": "stdout",
     "output_type": "stream",
     "text": [
      "+------------+-----------+------------+----------+-------------+--------+------------+--------+-----+\n",
      "|order_number|product_key|customer_key|order_date|shipping_date|due_date|sales_amount|quantity|price|\n",
      "+------------+-----------+------------+----------+-------------+--------+------------+--------+-----+\n",
      "+------------+-----------+------------+----------+-------------+--------+------------+--------+-----+\n",
      "\n"
     ]
    }
   ],
   "source": [
    "(\n",
    "    fact_sales\n",
    "    .filter(col('customer_key').isNull())\n",
    "    .show()\n",
    "    #.count()\n",
    ")"
   ]
  },
  {
   "cell_type": "markdown",
   "id": "a0b219a9",
   "metadata": {},
   "source": [
    "### Future Exploration\n",
    "- Loading to Database (DataSink API and Connectors)\n",
    "- Conduct Some EDA"
   ]
  }
 ],
 "metadata": {
  "kernelspec": {
   "display_name": "spark",
   "language": "python",
   "name": "python3"
  },
  "language_info": {
   "codemirror_mode": {
    "name": "ipython",
    "version": 3
   },
   "file_extension": ".py",
   "mimetype": "text/x-python",
   "name": "python",
   "nbconvert_exporter": "python",
   "pygments_lexer": "ipython3",
   "version": "3.10.16"
  }
 },
 "nbformat": 4,
 "nbformat_minor": 5
}
