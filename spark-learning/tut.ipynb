{
 "cells": [
  {
   "cell_type": "markdown",
   "id": "4805acca",
   "metadata": {},
   "source": [
    "### Settings"
   ]
  },
  {
   "cell_type": "code",
   "execution_count": 1,
   "id": "841446ef",
   "metadata": {},
   "outputs": [],
   "source": [
    "import pandas as pd\n",
    "from pyspark.sql import SparkSession\n",
    "\n",
    "from pyspark.sql.types import *\n",
    "from pyspark.sql.functions import *"
   ]
  },
  {
   "cell_type": "code",
   "execution_count": 2,
   "id": "89e256fe",
   "metadata": {},
   "outputs": [
    {
     "name": "stdout",
     "output_type": "stream",
     "text": [
      "<pyspark.sql.session.SparkSession object at 0x000001C17AF52320>\n"
     ]
    }
   ],
   "source": [
    "spark = SparkSession.builder.appName(\"tutorial\").getOrCreate()\n",
    "print(spark)"
   ]
  },
  {
   "cell_type": "markdown",
   "id": "74a85ca1",
   "metadata": {},
   "source": [
    "#### Reading JSON"
   ]
  },
  {
   "cell_type": "code",
   "execution_count": 3,
   "id": "6da9f43b",
   "metadata": {},
   "outputs": [],
   "source": [
    "df_json = spark.read.format('json') \\\n",
    "                .option('inferSchema', True) \\\n",
    "                .option('header', True) \\\n",
    "                .load('data-Drivers.json')"
   ]
  },
  {
   "cell_type": "code",
   "execution_count": 4,
   "id": "8e527ccc",
   "metadata": {},
   "outputs": [
    {
     "name": "stdout",
     "output_type": "stream",
     "text": [
      "+----+----------+--------+----------+--------------------+-----------+------+--------------------+\n",
      "|code|       dob|driverId| driverRef|                name|nationality|number|                 url|\n",
      "+----+----------+--------+----------+--------------------+-----------+------+--------------------+\n",
      "| HAM|1985-01-07|       1|  hamilton|   {Lewis, Hamilton}|    British|    44|http://en.wikiped...|\n",
      "| HEI|1977-05-10|       2|  heidfeld|    {Nick, Heidfeld}|     German|    \\N|http://en.wikiped...|\n",
      "| ROS|1985-06-27|       3|   rosberg|     {Nico, Rosberg}|     German|     6|http://en.wikiped...|\n",
      "| ALO|1981-07-29|       4|    alonso|  {Fernando, Alonso}|    Spanish|    14|http://en.wikiped...|\n",
      "| KOV|1981-10-19|       5|kovalainen|{Heikki, Kovalainen}|    Finnish|    \\N|http://en.wikiped...|\n",
      "+----+----------+--------+----------+--------------------+-----------+------+--------------------+\n",
      "only showing top 5 rows\n",
      "\n"
     ]
    }
   ],
   "source": [
    "df_json.show(5)"
   ]
  },
  {
   "cell_type": "markdown",
   "id": "b9004d67",
   "metadata": {},
   "source": [
    "#### Reading CSV"
   ]
  },
  {
   "cell_type": "code",
   "execution_count": 5,
   "id": "d25c0451",
   "metadata": {},
   "outputs": [],
   "source": [
    "df = (spark.read.csv(\"data-BigMart.csv\", header=True, inferSchema=True))"
   ]
  },
  {
   "cell_type": "code",
   "execution_count": 6,
   "id": "ae38ff54",
   "metadata": {},
   "outputs": [
    {
     "name": "stdout",
     "output_type": "stream",
     "text": [
      "+---------------+-----------+----------------+---------------+--------------------+--------+-----------------+-------------------------+-----------+--------------------+-----------------+-----------------+\n",
      "|Item_Identifier|Item_Weight|Item_Fat_Content|Item_Visibility|           Item_Type|Item_MRP|Outlet_Identifier|Outlet_Establishment_Year|Outlet_Size|Outlet_Location_Type|      Outlet_Type|Item_Outlet_Sales|\n",
      "+---------------+-----------+----------------+---------------+--------------------+--------+-----------------+-------------------------+-----------+--------------------+-----------------+-----------------+\n",
      "|          FDA15|        9.3|         Low Fat|    0.016047301|               Dairy|249.8092|           OUT049|                     1999|     Medium|              Tier 1|Supermarket Type1|         3735.138|\n",
      "|          DRC01|       5.92|         Regular|    0.019278216|         Soft Drinks| 48.2692|           OUT018|                     2009|     Medium|              Tier 3|Supermarket Type2|         443.4228|\n",
      "|          FDN15|       17.5|         Low Fat|    0.016760075|                Meat| 141.618|           OUT049|                     1999|     Medium|              Tier 1|Supermarket Type1|          2097.27|\n",
      "|          FDX07|       19.2|         Regular|            0.0|Fruits and Vegeta...| 182.095|           OUT010|                     1998|       NULL|              Tier 3|    Grocery Store|           732.38|\n",
      "|          NCD19|       8.93|         Low Fat|            0.0|           Household| 53.8614|           OUT013|                     1987|       High|              Tier 3|Supermarket Type1|         994.7052|\n",
      "+---------------+-----------+----------------+---------------+--------------------+--------+-----------------+-------------------------+-----------+--------------------+-----------------+-----------------+\n",
      "only showing top 5 rows\n",
      "\n"
     ]
    }
   ],
   "source": [
    "df.show(5)"
   ]
  },
  {
   "cell_type": "code",
   "execution_count": 7,
   "id": "255fc6a1",
   "metadata": {},
   "outputs": [
    {
     "name": "stdout",
     "output_type": "stream",
     "text": [
      "root\n",
      " |-- Item_Identifier: string (nullable = true)\n",
      " |-- Item_Weight: double (nullable = true)\n",
      " |-- Item_Fat_Content: string (nullable = true)\n",
      " |-- Item_Visibility: double (nullable = true)\n",
      " |-- Item_Type: string (nullable = true)\n",
      " |-- Item_MRP: double (nullable = true)\n",
      " |-- Outlet_Identifier: string (nullable = true)\n",
      " |-- Outlet_Establishment_Year: integer (nullable = true)\n",
      " |-- Outlet_Size: string (nullable = true)\n",
      " |-- Outlet_Location_Type: string (nullable = true)\n",
      " |-- Outlet_Type: string (nullable = true)\n",
      " |-- Item_Outlet_Sales: double (nullable = true)\n",
      "\n"
     ]
    }
   ],
   "source": [
    "df.printSchema()"
   ]
  },
  {
   "cell_type": "markdown",
   "id": "7f39b172",
   "metadata": {},
   "source": [
    "##### DDL Schema"
   ]
  },
  {
   "cell_type": "code",
   "execution_count": 8,
   "id": "8e883f08",
   "metadata": {},
   "outputs": [],
   "source": [
    "ddl_schema = '''\n",
    "                Item_Identifier STRING,\n",
    "                Item_Weight STRING,\n",
    "                Item_Fat_Content STRING,\n",
    "                Item_Visibility DOUBLE,\n",
    "                Item_Type STRING,\n",
    "                Item_MRP DOUBLE,\n",
    "                Outlet_Identifier STRING,\n",
    "                Outlet_Establishment_Year INT,\n",
    "                Outlet_Size STRING,\n",
    "                Outlet_Location_Type STRING,\n",
    "                Outlet_Type STRING,\n",
    "                Item_Outlet_Sales DOUBLE\n",
    "'''"
   ]
  },
  {
   "cell_type": "code",
   "execution_count": 9,
   "id": "18ed8b91",
   "metadata": {},
   "outputs": [],
   "source": [
    "df2 = spark.read.format('csv') \\\n",
    "                .schema(ddl_schema) \\\n",
    "                .option('header', True) \\\n",
    "                .load('data-BigMart.csv')"
   ]
  },
  {
   "cell_type": "code",
   "execution_count": 10,
   "id": "05b5ce63",
   "metadata": {},
   "outputs": [
    {
     "name": "stdout",
     "output_type": "stream",
     "text": [
      "root\n",
      " |-- Item_Identifier: string (nullable = true)\n",
      " |-- Item_Weight: string (nullable = true)\n",
      " |-- Item_Fat_Content: string (nullable = true)\n",
      " |-- Item_Visibility: double (nullable = true)\n",
      " |-- Item_Type: string (nullable = true)\n",
      " |-- Item_MRP: double (nullable = true)\n",
      " |-- Outlet_Identifier: string (nullable = true)\n",
      " |-- Outlet_Establishment_Year: integer (nullable = true)\n",
      " |-- Outlet_Size: string (nullable = true)\n",
      " |-- Outlet_Location_Type: string (nullable = true)\n",
      " |-- Outlet_Type: string (nullable = true)\n",
      " |-- Item_Outlet_Sales: double (nullable = true)\n",
      "\n"
     ]
    }
   ],
   "source": [
    "df2.printSchema()"
   ]
  },
  {
   "cell_type": "markdown",
   "id": "8170120d",
   "metadata": {},
   "source": [
    "##### StructType() Schema"
   ]
  },
  {
   "cell_type": "code",
   "execution_count": 11,
   "id": "274a23b9",
   "metadata": {},
   "outputs": [],
   "source": [
    "struct_schema = StructType([\n",
    "    StructField('Item_Identifier', StringType(), True),\n",
    "    StructField('Item_Weight', StringType(), True),\n",
    "    StructField('Item_Fat_Content', StringType(), True),\n",
    "    StructField('Item_Visibility', StringType(), True),\n",
    "    StructField('Item_Type', StringType(), True),\n",
    "    StructField('Item_MRP', StringType(), True),\n",
    "    StructField('Outlet_Identifier', StringType(), True),\n",
    "    StructField('Outlet_Establishment_Year', StringType(), True),\n",
    "    StructField('Outlet_Size', StringType(), True),\n",
    "    StructField('Outlet_Location_Type', StringType(), True),\n",
    "    StructField('Outlet_Type', StringType(), True),\n",
    "    StructField('Item_Outlet_Sales', StringType(), True)\n",
    "])"
   ]
  },
  {
   "cell_type": "code",
   "execution_count": 12,
   "id": "dcd22956",
   "metadata": {},
   "outputs": [],
   "source": [
    "df3 = spark.read.format('csv') \\\n",
    "                .schema(struct_schema) \\\n",
    "                .option('header', True) \\\n",
    "                .load('data-BigMart.csv')"
   ]
  },
  {
   "cell_type": "code",
   "execution_count": 13,
   "id": "514e06cb",
   "metadata": {},
   "outputs": [
    {
     "name": "stdout",
     "output_type": "stream",
     "text": [
      "root\n",
      " |-- Item_Identifier: string (nullable = true)\n",
      " |-- Item_Weight: string (nullable = true)\n",
      " |-- Item_Fat_Content: string (nullable = true)\n",
      " |-- Item_Visibility: string (nullable = true)\n",
      " |-- Item_Type: string (nullable = true)\n",
      " |-- Item_MRP: string (nullable = true)\n",
      " |-- Outlet_Identifier: string (nullable = true)\n",
      " |-- Outlet_Establishment_Year: string (nullable = true)\n",
      " |-- Outlet_Size: string (nullable = true)\n",
      " |-- Outlet_Location_Type: string (nullable = true)\n",
      " |-- Outlet_Type: string (nullable = true)\n",
      " |-- Item_Outlet_Sales: string (nullable = true)\n",
      "\n"
     ]
    }
   ],
   "source": [
    "df3.printSchema()"
   ]
  },
  {
   "cell_type": "markdown",
   "id": "15914740",
   "metadata": {},
   "source": [
    "### Data Transformation - Level 1"
   ]
  },
  {
   "cell_type": "markdown",
   "id": "abd733f6",
   "metadata": {},
   "source": [
    "#### Select"
   ]
  },
  {
   "cell_type": "code",
   "execution_count": 14,
   "id": "90a88256",
   "metadata": {},
   "outputs": [
    {
     "name": "stdout",
     "output_type": "stream",
     "text": [
      "+---------------+-----------+----------------+\n",
      "|Item_Identifier|Item_Weight|Item_Fat_Content|\n",
      "+---------------+-----------+----------------+\n",
      "|          FDA15|        9.3|         Low Fat|\n",
      "|          DRC01|       5.92|         Regular|\n",
      "|          FDN15|       17.5|         Low Fat|\n",
      "|          FDX07|       19.2|         Regular|\n",
      "|          NCD19|       8.93|         Low Fat|\n",
      "+---------------+-----------+----------------+\n",
      "only showing top 5 rows\n",
      "\n"
     ]
    }
   ],
   "source": [
    "df.select('Item_Identifier', 'Item_Weight', 'Item_Fat_Content').show(5)"
   ]
  },
  {
   "cell_type": "code",
   "execution_count": 15,
   "id": "3240aa46",
   "metadata": {},
   "outputs": [
    {
     "name": "stdout",
     "output_type": "stream",
     "text": [
      "+---------------+-----------+----------------+\n",
      "|Item_Identifier|Item_Weight|Item_Fat_Content|\n",
      "+---------------+-----------+----------------+\n",
      "|          FDA15|        9.3|         Low Fat|\n",
      "|          DRC01|       5.92|         Regular|\n",
      "|          FDN15|       17.5|         Low Fat|\n",
      "|          FDX07|       19.2|         Regular|\n",
      "|          NCD19|       8.93|         Low Fat|\n",
      "+---------------+-----------+----------------+\n",
      "only showing top 5 rows\n",
      "\n"
     ]
    }
   ],
   "source": [
    "df.select(col('Item_Identifier'), col('Item_Weight'), col('Item_Fat_Content')).show(5)"
   ]
  },
  {
   "cell_type": "markdown",
   "id": "f6ba72e1",
   "metadata": {},
   "source": [
    "#### Alias"
   ]
  },
  {
   "cell_type": "code",
   "execution_count": 16,
   "id": "cc9bf34c",
   "metadata": {},
   "outputs": [
    {
     "name": "stdout",
     "output_type": "stream",
     "text": [
      "+-------+\n",
      "|Item_ID|\n",
      "+-------+\n",
      "|  FDA15|\n",
      "|  DRC01|\n",
      "|  FDN15|\n",
      "|  FDX07|\n",
      "|  NCD19|\n",
      "+-------+\n",
      "only showing top 5 rows\n",
      "\n"
     ]
    }
   ],
   "source": [
    "df.select(col('Item_Identifier').alias('Item_ID')).show(5)"
   ]
  },
  {
   "cell_type": "markdown",
   "id": "49470154",
   "metadata": {},
   "source": [
    "#### Filter / Where"
   ]
  },
  {
   "cell_type": "markdown",
   "id": "17397712",
   "metadata": {},
   "source": [
    "##### 1. Filter the data with fat content = Regular"
   ]
  },
  {
   "cell_type": "code",
   "execution_count": 17,
   "id": "e7115a62",
   "metadata": {},
   "outputs": [
    {
     "name": "stdout",
     "output_type": "stream",
     "text": [
      "+---------------+-----------+----------------+---------------+--------------------+--------+-----------------+-------------------------+-----------+--------------------+-----------------+-----------------+\n",
      "|Item_Identifier|Item_Weight|Item_Fat_Content|Item_Visibility|           Item_Type|Item_MRP|Outlet_Identifier|Outlet_Establishment_Year|Outlet_Size|Outlet_Location_Type|      Outlet_Type|Item_Outlet_Sales|\n",
      "+---------------+-----------+----------------+---------------+--------------------+--------+-----------------+-------------------------+-----------+--------------------+-----------------+-----------------+\n",
      "|          DRC01|       5.92|         Regular|    0.019278216|         Soft Drinks| 48.2692|           OUT018|                     2009|     Medium|              Tier 3|Supermarket Type2|         443.4228|\n",
      "|          FDX07|       19.2|         Regular|            0.0|Fruits and Vegeta...| 182.095|           OUT010|                     1998|       NULL|              Tier 3|    Grocery Store|           732.38|\n",
      "|          FDP36|     10.395|         Regular|            0.0|        Baking Goods| 51.4008|           OUT018|                     2009|     Medium|              Tier 3|Supermarket Type2|         556.6088|\n",
      "|          FDO10|      13.65|         Regular|    0.012741089|         Snack Foods| 57.6588|           OUT013|                     1987|       High|              Tier 3|Supermarket Type1|         343.5528|\n",
      "|          FDH17|       16.2|         Regular|    0.016687114|        Frozen Foods| 96.9726|           OUT045|                     2002|       NULL|              Tier 2|Supermarket Type1|        1076.5986|\n",
      "+---------------+-----------+----------------+---------------+--------------------+--------+-----------------+-------------------------+-----------+--------------------+-----------------+-----------------+\n",
      "only showing top 5 rows\n",
      "\n"
     ]
    }
   ],
   "source": [
    "df.where(col('Item_Fat_Content') == 'Regular').show(5)"
   ]
  },
  {
   "cell_type": "code",
   "execution_count": 18,
   "id": "026bb251",
   "metadata": {},
   "outputs": [
    {
     "data": {
      "text/html": [
       "<div>\n",
       "<style scoped>\n",
       "    .dataframe tbody tr th:only-of-type {\n",
       "        vertical-align: middle;\n",
       "    }\n",
       "\n",
       "    .dataframe tbody tr th {\n",
       "        vertical-align: top;\n",
       "    }\n",
       "\n",
       "    .dataframe thead th {\n",
       "        text-align: right;\n",
       "    }\n",
       "</style>\n",
       "<table border=\"1\" class=\"dataframe\">\n",
       "  <thead>\n",
       "    <tr style=\"text-align: right;\">\n",
       "      <th></th>\n",
       "      <th>Item_Identifier</th>\n",
       "      <th>Item_Weight</th>\n",
       "      <th>Item_Fat_Content</th>\n",
       "      <th>Item_Visibility</th>\n",
       "      <th>Item_Type</th>\n",
       "      <th>Item_MRP</th>\n",
       "      <th>Outlet_Identifier</th>\n",
       "      <th>Outlet_Establishment_Year</th>\n",
       "      <th>Outlet_Size</th>\n",
       "      <th>Outlet_Location_Type</th>\n",
       "      <th>Outlet_Type</th>\n",
       "      <th>Item_Outlet_Sales</th>\n",
       "    </tr>\n",
       "  </thead>\n",
       "  <tbody>\n",
       "    <tr>\n",
       "      <th>2266</th>\n",
       "      <td>FDJ58</td>\n",
       "      <td>15.6</td>\n",
       "      <td>Regular</td>\n",
       "      <td>0.176244</td>\n",
       "      <td>Snack Foods</td>\n",
       "      <td>173.6764</td>\n",
       "      <td>OUT010</td>\n",
       "      <td>1998</td>\n",
       "      <td>None</td>\n",
       "      <td>Tier 3</td>\n",
       "      <td>Grocery Store</td>\n",
       "      <td>515.3292</td>\n",
       "    </tr>\n",
       "    <tr>\n",
       "      <th>1103</th>\n",
       "      <td>FDL12</td>\n",
       "      <td>NaN</td>\n",
       "      <td>Regular</td>\n",
       "      <td>0.212963</td>\n",
       "      <td>Baking Goods</td>\n",
       "      <td>59.5220</td>\n",
       "      <td>OUT019</td>\n",
       "      <td>1985</td>\n",
       "      <td>Small</td>\n",
       "      <td>Tier 1</td>\n",
       "      <td>Grocery Store</td>\n",
       "      <td>299.6100</td>\n",
       "    </tr>\n",
       "    <tr>\n",
       "      <th>1125</th>\n",
       "      <td>FDE11</td>\n",
       "      <td>17.7</td>\n",
       "      <td>Regular</td>\n",
       "      <td>0.000000</td>\n",
       "      <td>Starchy Foods</td>\n",
       "      <td>183.5924</td>\n",
       "      <td>OUT035</td>\n",
       "      <td>2004</td>\n",
       "      <td>Small</td>\n",
       "      <td>Tier 2</td>\n",
       "      <td>Supermarket Type1</td>\n",
       "      <td>7033.5112</td>\n",
       "    </tr>\n",
       "    <tr>\n",
       "      <th>1685</th>\n",
       "      <td>FDC59</td>\n",
       "      <td>16.7</td>\n",
       "      <td>Regular</td>\n",
       "      <td>0.000000</td>\n",
       "      <td>Starchy Foods</td>\n",
       "      <td>63.6168</td>\n",
       "      <td>OUT049</td>\n",
       "      <td>1999</td>\n",
       "      <td>Medium</td>\n",
       "      <td>Tier 1</td>\n",
       "      <td>Supermarket Type1</td>\n",
       "      <td>1342.2528</td>\n",
       "    </tr>\n",
       "    <tr>\n",
       "      <th>203</th>\n",
       "      <td>FDE05</td>\n",
       "      <td>NaN</td>\n",
       "      <td>Regular</td>\n",
       "      <td>0.000000</td>\n",
       "      <td>Frozen Foods</td>\n",
       "      <td>145.2102</td>\n",
       "      <td>OUT019</td>\n",
       "      <td>1985</td>\n",
       "      <td>Small</td>\n",
       "      <td>Tier 1</td>\n",
       "      <td>Grocery Store</td>\n",
       "      <td>437.4306</td>\n",
       "    </tr>\n",
       "  </tbody>\n",
       "</table>\n",
       "</div>"
      ],
      "text/plain": [
       "     Item_Identifier  Item_Weight Item_Fat_Content  Item_Visibility  \\\n",
       "2266           FDJ58         15.6          Regular         0.176244   \n",
       "1103           FDL12          NaN          Regular         0.212963   \n",
       "1125           FDE11         17.7          Regular         0.000000   \n",
       "1685           FDC59         16.7          Regular         0.000000   \n",
       "203            FDE05          NaN          Regular         0.000000   \n",
       "\n",
       "          Item_Type  Item_MRP Outlet_Identifier  Outlet_Establishment_Year  \\\n",
       "2266    Snack Foods  173.6764            OUT010                       1998   \n",
       "1103   Baking Goods   59.5220            OUT019                       1985   \n",
       "1125  Starchy Foods  183.5924            OUT035                       2004   \n",
       "1685  Starchy Foods   63.6168            OUT049                       1999   \n",
       "203    Frozen Foods  145.2102            OUT019                       1985   \n",
       "\n",
       "     Outlet_Size Outlet_Location_Type        Outlet_Type  Item_Outlet_Sales  \n",
       "2266        None               Tier 3      Grocery Store           515.3292  \n",
       "1103       Small               Tier 1      Grocery Store           299.6100  \n",
       "1125       Small               Tier 2  Supermarket Type1          7033.5112  \n",
       "1685      Medium               Tier 1  Supermarket Type1          1342.2528  \n",
       "203        Small               Tier 1      Grocery Store           437.4306  "
      ]
     },
     "execution_count": 18,
     "metadata": {},
     "output_type": "execute_result"
    }
   ],
   "source": [
    "df.filter(col('Item_Fat_Content') == 'Regular').toPandas().sample(5)"
   ]
  },
  {
   "cell_type": "markdown",
   "id": "9b67b061",
   "metadata": {},
   "source": [
    "##### 2. Slice the data with item type = Soft Drinks and weight < 10"
   ]
  },
  {
   "cell_type": "code",
   "execution_count": 19,
   "id": "f4a061a9",
   "metadata": {},
   "outputs": [
    {
     "name": "stdout",
     "output_type": "stream",
     "text": [
      "+---------------+-----------+----------------+---------------+-----------+--------+-----------------+-------------------------+-----------+--------------------+-----------------+-----------------+\n",
      "|Item_Identifier|Item_Weight|Item_Fat_Content|Item_Visibility|  Item_Type|Item_MRP|Outlet_Identifier|Outlet_Establishment_Year|Outlet_Size|Outlet_Location_Type|      Outlet_Type|Item_Outlet_Sales|\n",
      "+---------------+-----------+----------------+---------------+-----------+--------+-----------------+-------------------------+-----------+--------------------+-----------------+-----------------+\n",
      "|          DRC01|       5.92|         Regular|    0.019278216|Soft Drinks| 48.2692|           OUT018|                     2009|     Medium|              Tier 3|Supermarket Type2|         443.4228|\n",
      "|          DRZ11|       8.85|         Regular|    0.113123893|Soft Drinks|122.5388|           OUT018|                     2009|     Medium|              Tier 3|Supermarket Type2|        1609.9044|\n",
      "|          DRF49|       7.27|         Low Fat|    0.071077939|Soft Drinks|114.2518|           OUT046|                     1997|      Small|              Tier 1|Supermarket Type1|        2618.5914|\n",
      "|          DRK12|        9.5|              LF|    0.041878397|Soft Drinks|   32.99|           OUT035|                     2004|      Small|              Tier 2|Supermarket Type1|           133.16|\n",
      "|          DRK01|       7.63|         Low Fat|     0.06105276|Soft Drinks| 95.4436|           OUT035|                     2004|      Small|              Tier 2|Supermarket Type1|         1418.154|\n",
      "+---------------+-----------+----------------+---------------+-----------+--------+-----------------+-------------------------+-----------+--------------------+-----------------+-----------------+\n",
      "only showing top 5 rows\n",
      "\n"
     ]
    }
   ],
   "source": [
    "df.filter( (col('Item_Type') == 'Soft Drinks') & (col('Item_Weight') < 10) ).show(5)"
   ]
  },
  {
   "cell_type": "markdown",
   "id": "39912f41",
   "metadata": {},
   "source": [
    "##### 3. Fetch the data with Tier in (1 or 2) and Outlet Size is Null"
   ]
  },
  {
   "cell_type": "code",
   "execution_count": 20,
   "id": "9f8b6406",
   "metadata": {},
   "outputs": [
    {
     "name": "stdout",
     "output_type": "stream",
     "text": [
      "+---------------+-----------+----------------+---------------+------------------+--------+-----------------+-------------------------+-----------+--------------------+-----------------+-----------------+\n",
      "|Item_Identifier|Item_Weight|Item_Fat_Content|Item_Visibility|         Item_Type|Item_MRP|Outlet_Identifier|Outlet_Establishment_Year|Outlet_Size|Outlet_Location_Type|      Outlet_Type|Item_Outlet_Sales|\n",
      "+---------------+-----------+----------------+---------------+------------------+--------+-----------------+-------------------------+-----------+--------------------+-----------------+-----------------+\n",
      "|          FDH17|       16.2|         Regular|    0.016687114|      Frozen Foods| 96.9726|           OUT045|                     2002|       NULL|              Tier 2|Supermarket Type1|        1076.5986|\n",
      "|          FDU28|       19.2|         Regular|     0.09444959|      Frozen Foods|187.8214|           OUT017|                     2007|       NULL|              Tier 2|Supermarket Type1|         4710.535|\n",
      "|          NCD06|       13.0|         Low Fat|    0.099887103|         Household|  45.906|           OUT017|                     2007|       NULL|              Tier 2|Supermarket Type1|          838.908|\n",
      "|          FDO23|      17.85|         Low Fat|            0.0|            Breads| 93.1436|           OUT045|                     2002|       NULL|              Tier 2|Supermarket Type1|        2174.5028|\n",
      "|          NCP05|       19.6|         Low Fat|            0.0|Health and Hygiene|153.3024|           OUT045|                     2002|       NULL|              Tier 2|Supermarket Type1|        2428.8384|\n",
      "+---------------+-----------+----------------+---------------+------------------+--------+-----------------+-------------------------+-----------+--------------------+-----------------+-----------------+\n",
      "only showing top 5 rows\n",
      "\n"
     ]
    }
   ],
   "source": [
    "df.filter( (col('Outlet_Size').isNull()) & (col('Outlet_Location_Type').isin('Tier 1', 'Tier 2')) ).show(5)"
   ]
  },
  {
   "cell_type": "markdown",
   "id": "8263d21b",
   "metadata": {},
   "source": [
    "#### withColumnRenamed / withColumn"
   ]
  },
  {
   "cell_type": "code",
   "execution_count": 21,
   "id": "646df81d",
   "metadata": {},
   "outputs": [
    {
     "name": "stdout",
     "output_type": "stream",
     "text": [
      "+---------------+-------+----------------+---------------+-----------+--------+-----------------+-------------------------+-----------+--------------------+-----------------+-----------------+\n",
      "|Item_Identifier|Item_Wt|Item_Fat_Content|Item_Visibility|  Item_Type|Item_MRP|Outlet_Identifier|Outlet_Establishment_Year|Outlet_Size|Outlet_Location_Type|      Outlet_Type|Item_Outlet_Sales|\n",
      "+---------------+-------+----------------+---------------+-----------+--------+-----------------+-------------------------+-----------+--------------------+-----------------+-----------------+\n",
      "|          FDA15|    9.3|         Low Fat|    0.016047301|      Dairy|249.8092|           OUT049|                     1999|     Medium|              Tier 1|Supermarket Type1|         3735.138|\n",
      "|          DRC01|   5.92|         Regular|    0.019278216|Soft Drinks| 48.2692|           OUT018|                     2009|     Medium|              Tier 3|Supermarket Type2|         443.4228|\n",
      "+---------------+-------+----------------+---------------+-----------+--------+-----------------+-------------------------+-----------+--------------------+-----------------+-----------------+\n",
      "only showing top 2 rows\n",
      "\n"
     ]
    }
   ],
   "source": [
    "df.withColumnRenamed('Item_Weight', 'Item_Wt').show(2)"
   ]
  },
  {
   "cell_type": "code",
   "execution_count": 22,
   "id": "85d8b3af",
   "metadata": {},
   "outputs": [
    {
     "name": "stdout",
     "output_type": "stream",
     "text": [
      "+-------+-------+----------------+---------------+-----------+--------+-----------------+-------------------------+-----------+--------------------+-----------------+-----------------+\n",
      "|Item_Id|Item_Wt|Item_Fat_Content|Item_Visibility|  Item_Type|Item_MRP|Outlet_Identifier|Outlet_Establishment_Year|Outlet_Size|Outlet_Location_Type|      Outlet_Type|Item_Outlet_Sales|\n",
      "+-------+-------+----------------+---------------+-----------+--------+-----------------+-------------------------+-----------+--------------------+-----------------+-----------------+\n",
      "|  FDA15|    9.3|         Low Fat|    0.016047301|      Dairy|249.8092|           OUT049|                     1999|     Medium|              Tier 1|Supermarket Type1|         3735.138|\n",
      "|  DRC01|   5.92|         Regular|    0.019278216|Soft Drinks| 48.2692|           OUT018|                     2009|     Medium|              Tier 3|Supermarket Type2|         443.4228|\n",
      "+-------+-------+----------------+---------------+-----------+--------+-----------------+-------------------------+-----------+--------------------+-----------------+-----------------+\n",
      "only showing top 2 rows\n",
      "\n"
     ]
    }
   ],
   "source": [
    "df.withColumnsRenamed({'Item_Identifier': 'Item_Id', 'Item_Weight': 'Item_Wt'}).show(2)"
   ]
  },
  {
   "cell_type": "code",
   "execution_count": 23,
   "id": "18ba0bdc",
   "metadata": {},
   "outputs": [
    {
     "name": "stdout",
     "output_type": "stream",
     "text": [
      "+---------------+-----------+----------------+---------------+-----------+--------+-----------------+-------------------------+-----------+--------------------+-----------------+-----------------+----+\n",
      "|Item_Identifier|Item_Weight|Item_Fat_Content|Item_Visibility|  Item_Type|Item_MRP|Outlet_Identifier|Outlet_Establishment_Year|Outlet_Size|Outlet_Location_Type|      Outlet_Type|Item_Outlet_Sales|flag|\n",
      "+---------------+-----------+----------------+---------------+-----------+--------+-----------------+-------------------------+-----------+--------------------+-----------------+-----------------+----+\n",
      "|          FDA15|        9.3|         Low Fat|    0.016047301|      Dairy|249.8092|           OUT049|                     1999|     Medium|              Tier 1|Supermarket Type1|         3735.138| new|\n",
      "|          DRC01|       5.92|         Regular|    0.019278216|Soft Drinks| 48.2692|           OUT018|                     2009|     Medium|              Tier 3|Supermarket Type2|         443.4228| new|\n",
      "+---------------+-----------+----------------+---------------+-----------+--------+-----------------+-------------------------+-----------+--------------------+-----------------+-----------------+----+\n",
      "only showing top 2 rows\n",
      "\n"
     ]
    }
   ],
   "source": [
    "df.withColumn('flag', lit(\"new\")).show(2)"
   ]
  },
  {
   "cell_type": "code",
   "execution_count": 24,
   "id": "7cefbc02",
   "metadata": {},
   "outputs": [
    {
     "name": "stdout",
     "output_type": "stream",
     "text": [
      "+---------------+-----------+----------------+---------------+-----------+--------+-----------------+-------------------------+-----------+--------------------+-----------------+-----------------+------------------+\n",
      "|Item_Identifier|Item_Weight|Item_Fat_Content|Item_Visibility|  Item_Type|Item_MRP|Outlet_Identifier|Outlet_Establishment_Year|Outlet_Size|Outlet_Location_Type|      Outlet_Type|Item_Outlet_Sales|          multiply|\n",
      "+---------------+-----------+----------------+---------------+-----------+--------+-----------------+-------------------------+-----------+--------------------+-----------------+-----------------+------------------+\n",
      "|          FDA15|        9.3|         Low Fat|    0.016047301|      Dairy|249.8092|           OUT049|                     1999|     Medium|              Tier 1|Supermarket Type1|         3735.138|2323.2255600000003|\n",
      "|          DRC01|       5.92|         Regular|    0.019278216|Soft Drinks| 48.2692|           OUT018|                     2009|     Medium|              Tier 3|Supermarket Type2|         443.4228|285.75366399999996|\n",
      "+---------------+-----------+----------------+---------------+-----------+--------+-----------------+-------------------------+-----------+--------------------+-----------------+-----------------+------------------+\n",
      "only showing top 2 rows\n",
      "\n"
     ]
    }
   ],
   "source": [
    "df.withColumn('multiply', col('Item_Weight') * col('Item_MRP')).show(2)"
   ]
  },
  {
   "cell_type": "code",
   "execution_count": 25,
   "id": "3f73460c",
   "metadata": {},
   "outputs": [
    {
     "name": "stdout",
     "output_type": "stream",
     "text": [
      "+---------------+-----------+----------------+---------------+--------------------+--------+-----------------+-------------------------+-----------+--------------------+-----------------+-----------------+\n",
      "|Item_Identifier|Item_Weight|Item_Fat_Content|Item_Visibility|           Item_Type|Item_MRP|Outlet_Identifier|Outlet_Establishment_Year|Outlet_Size|Outlet_Location_Type|      Outlet_Type|Item_Outlet_Sales|\n",
      "+---------------+-----------+----------------+---------------+--------------------+--------+-----------------+-------------------------+-----------+--------------------+-----------------+-----------------+\n",
      "|          FDA15|        9.3|              LF|    0.016047301|               Dairy|249.8092|           OUT049|                     1999|     Medium|              Tier 1|Supermarket Type1|         3735.138|\n",
      "|          DRC01|       5.92|             REG|    0.019278216|         Soft Drinks| 48.2692|           OUT018|                     2009|     Medium|              Tier 3|Supermarket Type2|         443.4228|\n",
      "|          FDN15|       17.5|              LF|    0.016760075|                Meat| 141.618|           OUT049|                     1999|     Medium|              Tier 1|Supermarket Type1|          2097.27|\n",
      "|          FDX07|       19.2|             REG|            0.0|Fruits and Vegeta...| 182.095|           OUT010|                     1998|       NULL|              Tier 3|    Grocery Store|           732.38|\n",
      "|          NCD19|       8.93|              LF|            0.0|           Household| 53.8614|           OUT013|                     1987|       High|              Tier 3|Supermarket Type1|         994.7052|\n",
      "+---------------+-----------+----------------+---------------+--------------------+--------+-----------------+-------------------------+-----------+--------------------+-----------------+-----------------+\n",
      "only showing top 5 rows\n",
      "\n"
     ]
    }
   ],
   "source": [
    "(\n",
    "    df.withColumn('Item_Fat_Content', upper(col('Item_Fat_Content')))\n",
    "    .withColumn('Item_Fat_Content', regexp_replace(col('Item_Fat_Content'), 'REGULAR', 'REG'))\n",
    "    .withColumn('Item_Fat_Content', regexp_replace(col('Item_Fat_Content'), 'LOW FAT', 'LF'))\n",
    "    #.select('Item_Fat_Content').distinct() \\\n",
    "    .show(5)\n",
    ")"
   ]
  },
  {
   "cell_type": "markdown",
   "id": "7b90a98e",
   "metadata": {},
   "source": [
    "#### Type Casting"
   ]
  },
  {
   "cell_type": "code",
   "execution_count": 26,
   "id": "af4e280b",
   "metadata": {},
   "outputs": [
    {
     "name": "stdout",
     "output_type": "stream",
     "text": [
      "root\n",
      " |-- Item_Identifier: string (nullable = true)\n",
      " |-- Item_Weight: string (nullable = true)\n",
      " |-- Item_Fat_Content: string (nullable = true)\n",
      " |-- Item_Visibility: double (nullable = true)\n",
      " |-- Item_Type: string (nullable = true)\n",
      " |-- Item_MRP: double (nullable = true)\n",
      " |-- Outlet_Identifier: string (nullable = true)\n",
      " |-- Outlet_Establishment_Year: integer (nullable = true)\n",
      " |-- Outlet_Size: string (nullable = true)\n",
      " |-- Outlet_Location_Type: string (nullable = true)\n",
      " |-- Outlet_Type: string (nullable = true)\n",
      " |-- Item_Outlet_Sales: double (nullable = true)\n",
      "\n"
     ]
    }
   ],
   "source": [
    "df.withColumn('Item_Weight', col('Item_Weight').cast(StringType())).printSchema()"
   ]
  },
  {
   "cell_type": "markdown",
   "id": "ae679eba",
   "metadata": {},
   "source": [
    "#### Sort"
   ]
  },
  {
   "cell_type": "code",
   "execution_count": 27,
   "id": "01874aa7",
   "metadata": {},
   "outputs": [
    {
     "name": "stdout",
     "output_type": "stream",
     "text": [
      "+---------------+-----------+----------------+---------------+--------------------+--------+-----------------+-------------------------+-----------+--------------------+-----------------+-----------------+\n",
      "|Item_Identifier|Item_Weight|Item_Fat_Content|Item_Visibility|           Item_Type|Item_MRP|Outlet_Identifier|Outlet_Establishment_Year|Outlet_Size|Outlet_Location_Type|      Outlet_Type|Item_Outlet_Sales|\n",
      "+---------------+-----------+----------------+---------------+--------------------+--------+-----------------+-------------------------+-----------+--------------------+-----------------+-----------------+\n",
      "|          FDC02|      21.35|         Low Fat|    0.069102831|              Canned|259.9278|           OUT018|                     2009|     Medium|              Tier 3|Supermarket Type2|        6768.5228|\n",
      "|          FDC02|      21.35|         Low Fat|    0.115194717|              Canned|258.3278|           OUT010|                     1998|       NULL|              Tier 3|    Grocery Store|         520.6556|\n",
      "|          FDC02|      21.35|         Low Fat|    0.068809463|              Canned|258.5278|           OUT035|                     2004|      Small|              Tier 2|Supermarket Type1|         5206.556|\n",
      "|          FDC02|      21.35|         Low Fat|    0.068765205|              Canned|260.4278|           OUT013|                     1987|       High|              Tier 3|Supermarket Type1|        3644.5892|\n",
      "|          FDR07|      21.35|         Low Fat|    0.130127365|Fruits and Vegeta...| 96.2094|           OUT010|                     1998|       NULL|              Tier 3|    Grocery Store|         190.4188|\n",
      "|          FDC02|      21.35|         Low Fat|    0.068822477|              Canned|258.3278|           OUT046|                     1997|      Small|              Tier 1|Supermarket Type1|        7028.8506|\n",
      "|          FDR07|      21.35|         Low Fat|    0.078060605|Fruits and Vegeta...| 96.0094|           OUT018|                     2009|     Medium|              Tier 3|Supermarket Type2|         380.8376|\n",
      "|          FDT03|      21.25|         Low Fat|     0.01005532|                Meat|183.1608|           OUT017|                     2007|       NULL|              Tier 2|Supermarket Type1|         2756.412|\n",
      "|          FDA45|      21.25|         Low Fat|    0.155350299|         Snack Foods| 178.237|           OUT035|                     2004|      Small|              Tier 2|Supermarket Type1|          529.311|\n",
      "|          NCO42|      21.25|              LF|    0.024650932|           Household|146.0102|           OUT035|                     2004|      Small|              Tier 2|Supermarket Type1|         2916.204|\n",
      "+---------------+-----------+----------------+---------------+--------------------+--------+-----------------+-------------------------+-----------+--------------------+-----------------+-----------------+\n",
      "only showing top 10 rows\n",
      "\n"
     ]
    }
   ],
   "source": [
    "df.sort(col('Item_Weight').desc()).show(10)"
   ]
  },
  {
   "cell_type": "code",
   "execution_count": 28,
   "id": "5d94eb6c",
   "metadata": {},
   "outputs": [
    {
     "name": "stdout",
     "output_type": "stream",
     "text": [
      "+---------------+-----------+----------------+---------------+--------------------+--------+-----------------+-------------------------+-----------+--------------------+-------------+-----------------+\n",
      "|Item_Identifier|Item_Weight|Item_Fat_Content|Item_Visibility|           Item_Type|Item_MRP|Outlet_Identifier|Outlet_Establishment_Year|Outlet_Size|Outlet_Location_Type|  Outlet_Type|Item_Outlet_Sales|\n",
      "+---------------+-----------+----------------+---------------+--------------------+--------+-----------------+-------------------------+-----------+--------------------+-------------+-----------------+\n",
      "|          FDU13|       NULL|         low fat|    0.328390948|              Canned|146.0418|           OUT019|                     1985|      Small|              Tier 1|Grocery Store|         588.5672|\n",
      "|          NCZ18|       NULL|         Low Fat|    0.325780807|           Household|252.7698|           OUT019|                     1985|      Small|              Tier 1|Grocery Store|         761.0094|\n",
      "|          FDJ56|       NULL|         Low Fat|     0.32111501|Fruits and Vegeta...|  100.77|           OUT019|                     1985|      Small|              Tier 1|Grocery Store|           199.74|\n",
      "|          FDT24|      12.35|         Regular|    0.311090379|        Baking Goods| 79.2328|           OUT010|                     1998|       NULL|              Tier 3|Grocery Store|         154.4656|\n",
      "|          NCE31|       7.67|         Low Fat|    0.309390255|           Household| 33.2216|           OUT010|                     1998|       NULL|              Tier 3|Grocery Store|         138.4864|\n",
      "|          FDG32|       NULL|         Low Fat|    0.308145448|Fruits and Vegeta...|222.0772|           OUT019|                     1985|      Small|              Tier 1|Grocery Store|         889.5088|\n",
      "|          DRF01|       NULL|         Low Fat|    0.306542848|         Soft Drinks|147.3102|           OUT019|                     1985|      Small|              Tier 1|Grocery Store|         291.6204|\n",
      "|          FDI32|       NULL|         Low Fat|    0.305305397|Fruits and Vegeta...|116.6834|           OUT019|                     1985|      Small|              Tier 1|Grocery Store|         460.7336|\n",
      "|          FDS12|       NULL|              LF|    0.304859104|        Baking Goods|125.4362|           OUT019|                     1985|      Small|              Tier 1|Grocery Store|         755.0172|\n",
      "|          FDR14|       NULL|         Low Fat|    0.304737387|               Dairy| 54.7298|           OUT019|                     1985|      Small|              Tier 1|Grocery Store|         107.8596|\n",
      "+---------------+-----------+----------------+---------------+--------------------+--------+-----------------+-------------------------+-----------+--------------------+-------------+-----------------+\n",
      "only showing top 10 rows\n",
      "\n"
     ]
    }
   ],
   "source": [
    "df.sort(col('Item_Visibility').desc()).show(10)"
   ]
  },
  {
   "cell_type": "code",
   "execution_count": 29,
   "id": "3a91ebc4",
   "metadata": {},
   "outputs": [
    {
     "name": "stdout",
     "output_type": "stream",
     "text": [
      "+---------------+-----------+----------------+---------------+--------------------+--------+-----------------+-------------------------+-----------+--------------------+-----------------+-----------------+\n",
      "|Item_Identifier|Item_Weight|Item_Fat_Content|Item_Visibility|           Item_Type|Item_MRP|Outlet_Identifier|Outlet_Establishment_Year|Outlet_Size|Outlet_Location_Type|      Outlet_Type|Item_Outlet_Sales|\n",
      "+---------------+-----------+----------------+---------------+--------------------+--------+-----------------+-------------------------+-----------+--------------------+-----------------+-----------------+\n",
      "|          FDC02|      21.35|         Low Fat|    0.068765205|              Canned|260.4278|           OUT013|                     1987|       High|              Tier 3|Supermarket Type1|        3644.5892|\n",
      "|          FDC02|      21.35|         Low Fat|    0.068809463|              Canned|258.5278|           OUT035|                     2004|      Small|              Tier 2|Supermarket Type1|         5206.556|\n",
      "|          FDC02|      21.35|         Low Fat|    0.068822477|              Canned|258.3278|           OUT046|                     1997|      Small|              Tier 1|Supermarket Type1|        7028.8506|\n",
      "|          FDC02|      21.35|         Low Fat|    0.069102831|              Canned|259.9278|           OUT018|                     2009|     Medium|              Tier 3|Supermarket Type2|        6768.5228|\n",
      "|          FDR07|      21.35|         Low Fat|    0.078060605|Fruits and Vegeta...| 96.0094|           OUT018|                     2009|     Medium|              Tier 3|Supermarket Type2|         380.8376|\n",
      "|          FDC02|      21.35|         Low Fat|    0.115194717|              Canned|258.3278|           OUT010|                     1998|       NULL|              Tier 3|    Grocery Store|         520.6556|\n",
      "|          FDR07|      21.35|         Low Fat|    0.130127365|Fruits and Vegeta...| 96.2094|           OUT010|                     1998|       NULL|              Tier 3|    Grocery Store|         190.4188|\n",
      "|          FDT03|      21.25|         Low Fat|    0.009996872|                Meat|185.5608|           OUT035|                     2004|      Small|              Tier 2|Supermarket Type1|        3123.9336|\n",
      "|          FDT03|      21.25|         Low Fat|    0.009998763|                Meat|182.3608|           OUT046|                     1997|      Small|              Tier 1|Supermarket Type1|         551.2824|\n",
      "|          FDT03|      21.25|         Low Fat|     0.01001904|                Meat|184.6608|           OUT045|                     2002|       NULL|              Tier 2|Supermarket Type1|         367.5216|\n",
      "+---------------+-----------+----------------+---------------+--------------------+--------+-----------------+-------------------------+-----------+--------------------+-----------------+-----------------+\n",
      "only showing top 10 rows\n",
      "\n"
     ]
    }
   ],
   "source": [
    "df.sort(['Item_Weight', 'Item_Visibility'], ascending=[0, 1]).show(10)"
   ]
  },
  {
   "cell_type": "markdown",
   "id": "e835e517",
   "metadata": {},
   "source": [
    "#### Drop"
   ]
  },
  {
   "cell_type": "code",
   "execution_count": 30,
   "id": "d01f0101",
   "metadata": {},
   "outputs": [
    {
     "name": "stdout",
     "output_type": "stream",
     "text": [
      "+---------------+-----------+----------------+--------------------+--------+-----------------+-------------------------+-----------+--------------------+-----------------+-----------------+\n",
      "|Item_Identifier|Item_Weight|Item_Fat_Content|           Item_Type|Item_MRP|Outlet_Identifier|Outlet_Establishment_Year|Outlet_Size|Outlet_Location_Type|      Outlet_Type|Item_Outlet_Sales|\n",
      "+---------------+-----------+----------------+--------------------+--------+-----------------+-------------------------+-----------+--------------------+-----------------+-----------------+\n",
      "|          FDA15|        9.3|         Low Fat|               Dairy|249.8092|           OUT049|                     1999|     Medium|              Tier 1|Supermarket Type1|         3735.138|\n",
      "|          DRC01|       5.92|         Regular|         Soft Drinks| 48.2692|           OUT018|                     2009|     Medium|              Tier 3|Supermarket Type2|         443.4228|\n",
      "|          FDN15|       17.5|         Low Fat|                Meat| 141.618|           OUT049|                     1999|     Medium|              Tier 1|Supermarket Type1|          2097.27|\n",
      "|          FDX07|       19.2|         Regular|Fruits and Vegeta...| 182.095|           OUT010|                     1998|       NULL|              Tier 3|    Grocery Store|           732.38|\n",
      "|          NCD19|       8.93|         Low Fat|           Household| 53.8614|           OUT013|                     1987|       High|              Tier 3|Supermarket Type1|         994.7052|\n",
      "+---------------+-----------+----------------+--------------------+--------+-----------------+-------------------------+-----------+--------------------+-----------------+-----------------+\n",
      "only showing top 5 rows\n",
      "\n"
     ]
    }
   ],
   "source": [
    "df.drop('Item_Visibility').show(5)"
   ]
  },
  {
   "cell_type": "code",
   "execution_count": 31,
   "id": "16ca702b",
   "metadata": {},
   "outputs": [
    {
     "name": "stdout",
     "output_type": "stream",
     "text": [
      "+---------------+-----------+----------------+--------+-----------------+-------------------------+-----------+--------------------+-----------------+-----------------+\n",
      "|Item_Identifier|Item_Weight|Item_Fat_Content|Item_MRP|Outlet_Identifier|Outlet_Establishment_Year|Outlet_Size|Outlet_Location_Type|      Outlet_Type|Item_Outlet_Sales|\n",
      "+---------------+-----------+----------------+--------+-----------------+-------------------------+-----------+--------------------+-----------------+-----------------+\n",
      "|          FDA15|        9.3|         Low Fat|249.8092|           OUT049|                     1999|     Medium|              Tier 1|Supermarket Type1|         3735.138|\n",
      "|          DRC01|       5.92|         Regular| 48.2692|           OUT018|                     2009|     Medium|              Tier 3|Supermarket Type2|         443.4228|\n",
      "|          FDN15|       17.5|         Low Fat| 141.618|           OUT049|                     1999|     Medium|              Tier 1|Supermarket Type1|          2097.27|\n",
      "|          FDX07|       19.2|         Regular| 182.095|           OUT010|                     1998|       NULL|              Tier 3|    Grocery Store|           732.38|\n",
      "|          NCD19|       8.93|         Low Fat| 53.8614|           OUT013|                     1987|       High|              Tier 3|Supermarket Type1|         994.7052|\n",
      "+---------------+-----------+----------------+--------+-----------------+-------------------------+-----------+--------------------+-----------------+-----------------+\n",
      "only showing top 5 rows\n",
      "\n"
     ]
    }
   ],
   "source": [
    "df.drop('Item_Visibility', 'Item_Type').show(5)"
   ]
  },
  {
   "cell_type": "code",
   "execution_count": 32,
   "id": "510642bf",
   "metadata": {},
   "outputs": [
    {
     "name": "stdout",
     "output_type": "stream",
     "text": [
      "+---------------+-----------+----------------+---------------+--------------------+--------+-----------------+-------------------------+-----------+--------------------+-----------------+-----------------+\n",
      "|Item_Identifier|Item_Weight|Item_Fat_Content|Item_Visibility|           Item_Type|Item_MRP|Outlet_Identifier|Outlet_Establishment_Year|Outlet_Size|Outlet_Location_Type|      Outlet_Type|Item_Outlet_Sales|\n",
      "+---------------+-----------+----------------+---------------+--------------------+--------+-----------------+-------------------------+-----------+--------------------+-----------------+-----------------+\n",
      "|          FDP36|     10.395|         Regular|            0.0|        Baking Goods| 51.4008|           OUT018|                     2009|     Medium|              Tier 3|Supermarket Type2|         556.6088|\n",
      "|          FDO23|      17.85|         Low Fat|            0.0|              Breads| 93.1436|           OUT045|                     2002|       NULL|              Tier 2|Supermarket Type1|        2174.5028|\n",
      "|          FDP49|        9.0|         Regular|    0.069088961|           Breakfast| 56.3614|           OUT046|                     1997|      Small|              Tier 1|Supermarket Type1|        1547.3192|\n",
      "|          FDC14|       NULL|         Regular|    0.072221801|              Canned| 43.6454|           OUT019|                     1985|      Small|              Tier 1|    Grocery Store|         125.8362|\n",
      "|          FDA15|        9.3|         Low Fat|    0.016047301|               Dairy|249.8092|           OUT049|                     1999|     Medium|              Tier 1|Supermarket Type1|         3735.138|\n",
      "|          FDH17|       16.2|         Regular|    0.016687114|        Frozen Foods| 96.9726|           OUT045|                     2002|       NULL|              Tier 2|Supermarket Type1|        1076.5986|\n",
      "|          FDX07|       19.2|         Regular|            0.0|Fruits and Vegeta...| 182.095|           OUT010|                     1998|       NULL|              Tier 3|    Grocery Store|           732.38|\n",
      "|          DRI11|       NULL|         Low Fat|    0.034237682|         Hard Drinks|113.2834|           OUT027|                     1985|     Medium|              Tier 3|Supermarket Type3|         2303.668|\n",
      "|          NCB42|       11.8|         Low Fat|    0.008596051|  Health and Hygiene|115.3492|           OUT018|                     2009|     Medium|              Tier 3|Supermarket Type2|        1621.8888|\n",
      "|          NCD19|       8.93|         Low Fat|            0.0|           Household| 53.8614|           OUT013|                     1987|       High|              Tier 3|Supermarket Type1|         994.7052|\n",
      "|          FDN15|       17.5|         Low Fat|    0.016760075|                Meat| 141.618|           OUT049|                     1999|     Medium|              Tier 1|Supermarket Type1|          2097.27|\n",
      "|          NCN07|       18.5|         Low Fat|    0.056816465|              Others|132.1284|           OUT010|                     1998|       NULL|              Tier 3|    Grocery Store|         263.6568|\n",
      "|          FDG33|       NULL|         Regular|     0.13956116|             Seafood|170.4764|           OUT027|                     1985|     Medium|              Tier 3|Supermarket Type3|         3435.528|\n",
      "|          FDO10|      13.65|         Regular|    0.012741089|         Snack Foods| 57.6588|           OUT013|                     1987|       High|              Tier 3|Supermarket Type1|         343.5528|\n",
      "|          DRC01|       5.92|         Regular|    0.019278216|         Soft Drinks| 48.2692|           OUT018|                     2009|     Medium|              Tier 3|Supermarket Type2|         443.4228|\n",
      "|          FDH35|      18.25|         Low Fat|            0.0|       Starchy Foods|164.7526|           OUT045|                     2002|       NULL|              Tier 2|Supermarket Type1|        4604.6728|\n",
      "+---------------+-----------+----------------+---------------+--------------------+--------+-----------------+-------------------------+-----------+--------------------+-----------------+-----------------+\n",
      "\n"
     ]
    }
   ],
   "source": [
    "(df\n",
    " .dropDuplicates(subset=['Item_Type'])\n",
    " #.count()\n",
    " .show()\n",
    ")"
   ]
  },
  {
   "cell_type": "markdown",
   "id": "dafe9566",
   "metadata": {},
   "source": [
    "### Data Transformation - Level 2"
   ]
  },
  {
   "cell_type": "markdown",
   "id": "09d26f77",
   "metadata": {},
   "source": [
    "#### Union / unionByName"
   ]
  },
  {
   "cell_type": "code",
   "execution_count": 33,
   "id": "485b0316",
   "metadata": {},
   "outputs": [],
   "source": [
    "data1 = [\n",
    "    ('1', 'Shohei', 'LAD'),\n",
    "    ('2', 'Judge', 'NYY'),\n",
    "    ('3', 'Adley', 'BAL')\n",
    "]\n",
    "schema1 = 'id STRING, name STRING, team STRING'\n",
    "\n",
    "df1 = spark.createDataFrame(data1, schema1)\n",
    "\n",
    "data2 = [\n",
    "    ('4', 'Doncic', 'LAL'),\n",
    "    ('5', 'Curry', 'GSW'),\n",
    "    ('6', 'Bryant', 'LAL')\n",
    "]\n",
    "schema2 = 'id STRING, name STRING, team STRING'\n",
    "\n",
    "df2 = spark.createDataFrame(data2, schema2)"
   ]
  },
  {
   "cell_type": "code",
   "execution_count": 34,
   "id": "8893a0fe",
   "metadata": {},
   "outputs": [
    {
     "name": "stdout",
     "output_type": "stream",
     "text": [
      "+---+------+----+\n",
      "| id|  name|team|\n",
      "+---+------+----+\n",
      "|  1|Shohei| LAD|\n",
      "|  2| Judge| NYY|\n",
      "|  3| Adley| BAL|\n",
      "|  4|Doncic| LAL|\n",
      "|  5| Curry| GSW|\n",
      "|  6|Bryant| LAL|\n",
      "+---+------+----+\n",
      "\n"
     ]
    }
   ],
   "source": [
    "df1.union(df2).show()"
   ]
  },
  {
   "cell_type": "code",
   "execution_count": 35,
   "id": "1e9b8aeb",
   "metadata": {},
   "outputs": [
    {
     "name": "stdout",
     "output_type": "stream",
     "text": [
      "+------+----+---+\n",
      "|  name|team| id|\n",
      "+------+----+---+\n",
      "|Shohei| LAD|  1|\n",
      "| Judge| NYY|  2|\n",
      "| Adley| BAL|  3|\n",
      "+------+----+---+\n",
      "\n"
     ]
    }
   ],
   "source": [
    "data1 = [\n",
    "    ('Shohei', 'LAD', '1'),\n",
    "    ('Judge', 'NYY', '2'),\n",
    "    ('Adley', 'BAL', '3')\n",
    "]\n",
    "schema1 = 'name STRING, team STRING, id STRING'\n",
    "\n",
    "df1 = spark.createDataFrame(data1, schema1)\n",
    "\n",
    "df1.show()"
   ]
  },
  {
   "cell_type": "code",
   "execution_count": 36,
   "id": "d1569da3",
   "metadata": {},
   "outputs": [
    {
     "name": "stdout",
     "output_type": "stream",
     "text": [
      "+----+---+------+\n",
      "|team| id|  name|\n",
      "+----+---+------+\n",
      "| LAL|  4|Doncic|\n",
      "| GSW|  5| Curry|\n",
      "| LAL|  6|Bryant|\n",
      "+----+---+------+\n",
      "\n"
     ]
    }
   ],
   "source": [
    "data2 = [\n",
    "    ('LAL', '4', 'Doncic'),\n",
    "    ('GSW', '5', 'Curry'),\n",
    "    ('LAL', '6', 'Bryant')\n",
    "]\n",
    "schema2 = 'team STRING, id STRING, name STRING'\n",
    "\n",
    "df2 = spark.createDataFrame(data2, schema2)\n",
    "\n",
    "df2.show()"
   ]
  },
  {
   "cell_type": "code",
   "execution_count": 37,
   "id": "453738b8",
   "metadata": {},
   "outputs": [
    {
     "name": "stdout",
     "output_type": "stream",
     "text": [
      "+------+----+------+\n",
      "|  name|team|    id|\n",
      "+------+----+------+\n",
      "|Shohei| LAD|     1|\n",
      "| Judge| NYY|     2|\n",
      "| Adley| BAL|     3|\n",
      "|   LAL|   4|Doncic|\n",
      "|   GSW|   5| Curry|\n",
      "|   LAL|   6|Bryant|\n",
      "+------+----+------+\n",
      "\n"
     ]
    }
   ],
   "source": [
    "df1.union(df2).show()"
   ]
  },
  {
   "cell_type": "code",
   "execution_count": 38,
   "id": "52b21284",
   "metadata": {},
   "outputs": [
    {
     "name": "stdout",
     "output_type": "stream",
     "text": [
      "+------+----+---+\n",
      "|  name|team| id|\n",
      "+------+----+---+\n",
      "|Shohei| LAD|  1|\n",
      "| Judge| NYY|  2|\n",
      "| Adley| BAL|  3|\n",
      "|Doncic| LAL|  4|\n",
      "| Curry| GSW|  5|\n",
      "|Bryant| LAL|  6|\n",
      "+------+----+---+\n",
      "\n"
     ]
    }
   ],
   "source": [
    "df1.unionByName(df2).show()"
   ]
  },
  {
   "cell_type": "markdown",
   "id": "1759148b",
   "metadata": {},
   "source": [
    "#### String Functions"
   ]
  },
  {
   "cell_type": "code",
   "execution_count": 39,
   "id": "cf6b81ed",
   "metadata": {},
   "outputs": [
    {
     "name": "stdout",
     "output_type": "stream",
     "text": [
      "+---------------------+\n",
      "|item_type            |\n",
      "+---------------------+\n",
      "|Starchy Foods        |\n",
      "|Baking Goods         |\n",
      "|Breads               |\n",
      "|Meat                 |\n",
      "|Hard Drinks          |\n",
      "|Soft Drinks          |\n",
      "|Household            |\n",
      "|Breakfast            |\n",
      "|Dairy                |\n",
      "|Snack Foods          |\n",
      "|Others               |\n",
      "|Fruits And Vegetables|\n",
      "|Seafood              |\n",
      "|Health And Hygiene   |\n",
      "|Canned               |\n",
      "|Frozen Foods         |\n",
      "+---------------------+\n",
      "\n"
     ]
    }
   ],
   "source": [
    "df.select(initcap('Item_Type').alias('item_type')).distinct().show(truncate=False)"
   ]
  },
  {
   "cell_type": "markdown",
   "id": "ea24dadf",
   "metadata": {},
   "source": [
    "#### Date Functions"
   ]
  },
  {
   "cell_type": "code",
   "execution_count": 40,
   "id": "f1515b88",
   "metadata": {},
   "outputs": [
    {
     "name": "stdout",
     "output_type": "stream",
     "text": [
      "+---------------+-----------+----------------+---------------+--------------------+--------+-----------------+-------------------------+-----------+--------------------+-----------------+-----------------+----------+----------+-----------+----------------+-----+\n",
      "|Item_Identifier|Item_Weight|Item_Fat_Content|Item_Visibility|           Item_Type|Item_MRP|Outlet_Identifier|Outlet_Establishment_Year|Outlet_Size|Outlet_Location_Type|      Outlet_Type|Item_Outlet_Sales| curr_date|week_after|week_before|fortnight_before|ddiff|\n",
      "+---------------+-----------+----------------+---------------+--------------------+--------+-----------------+-------------------------+-----------+--------------------+-----------------+-----------------+----------+----------+-----------+----------------+-----+\n",
      "|          FDA15|        9.3|         Low Fat|    0.016047301|               Dairy|249.8092|           OUT049|                     1999|     Medium|              Tier 1|Supermarket Type1|         3735.138|2025-05-01|2025-05-08| 2025-04-24|        17.04.25|    7|\n",
      "|          DRC01|       5.92|         Regular|    0.019278216|         Soft Drinks| 48.2692|           OUT018|                     2009|     Medium|              Tier 3|Supermarket Type2|         443.4228|2025-05-01|2025-05-08| 2025-04-24|        17.04.25|    7|\n",
      "|          FDN15|       17.5|         Low Fat|    0.016760075|                Meat| 141.618|           OUT049|                     1999|     Medium|              Tier 1|Supermarket Type1|          2097.27|2025-05-01|2025-05-08| 2025-04-24|        17.04.25|    7|\n",
      "|          FDX07|       19.2|         Regular|            0.0|Fruits and Vegeta...| 182.095|           OUT010|                     1998|       NULL|              Tier 3|    Grocery Store|           732.38|2025-05-01|2025-05-08| 2025-04-24|        17.04.25|    7|\n",
      "|          NCD19|       8.93|         Low Fat|            0.0|           Household| 53.8614|           OUT013|                     1987|       High|              Tier 3|Supermarket Type1|         994.7052|2025-05-01|2025-05-08| 2025-04-24|        17.04.25|    7|\n",
      "+---------------+-----------+----------------+---------------+--------------------+--------+-----------------+-------------------------+-----------+--------------------+-----------------+-----------------+----------+----------+-----------+----------------+-----+\n",
      "only showing top 5 rows\n",
      "\n"
     ]
    }
   ],
   "source": [
    "(df\n",
    " .withColumn('curr_date', current_date())\n",
    " .withColumn('week_after', date_add('curr_date', 7))\n",
    " .withColumn('week_before', date_sub('curr_date', 7))\n",
    " .withColumn('fortnight_before', date_format(date_add('curr_date', -14), 'dd.MM.yy'))\n",
    " .withColumn('ddiff', date_diff('week_after', 'curr_date'))\n",
    " .show(5)\n",
    ")"
   ]
  },
  {
   "cell_type": "markdown",
   "id": "8ed14c02",
   "metadata": {},
   "source": [
    "#### Handling Nulls"
   ]
  },
  {
   "cell_type": "code",
   "execution_count": 41,
   "id": "1bb31b35",
   "metadata": {},
   "outputs": [
    {
     "name": "stdout",
     "output_type": "stream",
     "text": [
      "+---------------+-----------+----------------+---------------+---------+--------+-----------------+-------------------------+-----------+--------------------+-----------+-----------------+\n",
      "|Item_Identifier|Item_Weight|Item_Fat_Content|Item_Visibility|Item_Type|Item_MRP|Outlet_Identifier|Outlet_Establishment_Year|Outlet_Size|Outlet_Location_Type|Outlet_Type|Item_Outlet_Sales|\n",
      "+---------------+-----------+----------------+---------------+---------+--------+-----------------+-------------------------+-----------+--------------------+-----------+-----------------+\n",
      "|              0|       1463|               0|              0|        0|       0|                0|                        0|       2410|                   0|          0|                0|\n",
      "+---------------+-----------+----------------+---------------+---------+--------+-----------------+-------------------------+-----------+--------------------+-----------+-----------------+\n",
      "\n"
     ]
    }
   ],
   "source": [
    "(\n",
    "    df.select([\n",
    "        sum(col(c).isNull().cast(\"int\"))\n",
    "        .alias(c) \n",
    "        for c in df.columns\n",
    "    ])\n",
    "    .show()\n",
    ")"
   ]
  },
  {
   "cell_type": "code",
   "execution_count": 42,
   "id": "2ec7d5c9",
   "metadata": {},
   "outputs": [
    {
     "data": {
      "text/plain": [
       "4650"
      ]
     },
     "execution_count": 42,
     "metadata": {},
     "output_type": "execute_result"
    }
   ],
   "source": [
    "(df\n",
    " .dropna(how='any')\n",
    " .count()\n",
    " #.show()\n",
    ")"
   ]
  },
  {
   "cell_type": "code",
   "execution_count": 43,
   "id": "c8a6542d",
   "metadata": {},
   "outputs": [
    {
     "data": {
      "text/plain": [
       "7060"
      ]
     },
     "execution_count": 43,
     "metadata": {},
     "output_type": "execute_result"
    }
   ],
   "source": [
    "(df\n",
    " .dropna(subset=['Item_Weight'])\n",
    " .count()\n",
    " #.show()\n",
    ")"
   ]
  },
  {
   "cell_type": "code",
   "execution_count": 44,
   "id": "583cc68f",
   "metadata": {},
   "outputs": [
    {
     "name": "stdout",
     "output_type": "stream",
     "text": [
      "+---------------+-----------+----------------+---------------+--------------------+--------+-----------------+-------------------------+-----------+--------------------+-----------------+-----------------+\n",
      "|Item_Identifier|Item_Weight|Item_Fat_Content|Item_Visibility|           Item_Type|Item_MRP|Outlet_Identifier|Outlet_Establishment_Year|Outlet_Size|Outlet_Location_Type|      Outlet_Type|Item_Outlet_Sales|\n",
      "+---------------+-----------+----------------+---------------+--------------------+--------+-----------------+-------------------------+-----------+--------------------+-----------------+-----------------+\n",
      "|          FDA15|        9.3|         Low Fat|    0.016047301|               Dairy|249.8092|           OUT049|                     1999|     Medium|              Tier 1|Supermarket Type1|         3735.138|\n",
      "|          DRC01|       5.92|         Regular|    0.019278216|         Soft Drinks| 48.2692|           OUT018|                     2009|     Medium|              Tier 3|Supermarket Type2|         443.4228|\n",
      "|          FDN15|       17.5|         Low Fat|    0.016760075|                Meat| 141.618|           OUT049|                     1999|     Medium|              Tier 1|Supermarket Type1|          2097.27|\n",
      "|          FDX07|       19.2|         Regular|            0.0|Fruits and Vegeta...| 182.095|           OUT010|                     1998|    Unknown|              Tier 3|    Grocery Store|           732.38|\n",
      "|          NCD19|       8.93|         Low Fat|            0.0|           Household| 53.8614|           OUT013|                     1987|       High|              Tier 3|Supermarket Type1|         994.7052|\n",
      "+---------------+-----------+----------------+---------------+--------------------+--------+-----------------+-------------------------+-----------+--------------------+-----------------+-----------------+\n",
      "only showing top 5 rows\n",
      "\n"
     ]
    }
   ],
   "source": [
    "(df\n",
    " .fillna('Unknown', subset=['Outlet_Size'])\n",
    " .na.fill(0, subset=['Item_Weight'])\n",
    " .show(5)\n",
    ")"
   ]
  },
  {
   "cell_type": "markdown",
   "id": "eff6d827",
   "metadata": {},
   "source": [
    "#### Split and Indexing / Explode / Array Contains"
   ]
  },
  {
   "cell_type": "code",
   "execution_count": 45,
   "id": "fbf53bec",
   "metadata": {},
   "outputs": [
    {
     "name": "stdout",
     "output_type": "stream",
     "text": [
      "+---------------+-----------+----------------+---------------+--------------------+--------+-----------------+-------------------------+-----------+--------------------+-----------+-----------------+\n",
      "|Item_Identifier|Item_Weight|Item_Fat_Content|Item_Visibility|           Item_Type|Item_MRP|Outlet_Identifier|Outlet_Establishment_Year|Outlet_Size|Outlet_Location_Type|Outlet_Type|Item_Outlet_Sales|\n",
      "+---------------+-----------+----------------+---------------+--------------------+--------+-----------------+-------------------------+-----------+--------------------+-----------+-----------------+\n",
      "|          FDA15|        9.3|         Low Fat|    0.016047301|               Dairy|249.8092|           OUT049|                     1999|     Medium|              Tier 1|      Type1|         3735.138|\n",
      "|          DRC01|       5.92|         Regular|    0.019278216|         Soft Drinks| 48.2692|           OUT018|                     2009|     Medium|              Tier 3|      Type2|         443.4228|\n",
      "|          FDN15|       17.5|         Low Fat|    0.016760075|                Meat| 141.618|           OUT049|                     1999|     Medium|              Tier 1|      Type1|          2097.27|\n",
      "|          FDX07|       19.2|         Regular|            0.0|Fruits and Vegeta...| 182.095|           OUT010|                     1998|       NULL|              Tier 3|      Store|           732.38|\n",
      "|          NCD19|       8.93|         Low Fat|            0.0|           Household| 53.8614|           OUT013|                     1987|       High|              Tier 3|      Type1|         994.7052|\n",
      "+---------------+-----------+----------------+---------------+--------------------+--------+-----------------+-------------------------+-----------+--------------------+-----------+-----------------+\n",
      "only showing top 5 rows\n",
      "\n"
     ]
    }
   ],
   "source": [
    "df.withColumn('Outlet_Type', split('Outlet_Type', ' ')[1]).show(5)"
   ]
  },
  {
   "cell_type": "code",
   "execution_count": 46,
   "id": "33829dee",
   "metadata": {},
   "outputs": [
    {
     "name": "stdout",
     "output_type": "stream",
     "text": [
      "+---------------+-----------+----------------+---------------+-----------+--------+-----------------+-------------------------+-----------+--------------------+-----------+-----------------+\n",
      "|Item_Identifier|Item_Weight|Item_Fat_Content|Item_Visibility|  Item_Type|Item_MRP|Outlet_Identifier|Outlet_Establishment_Year|Outlet_Size|Outlet_Location_Type|Outlet_Type|Item_Outlet_Sales|\n",
      "+---------------+-----------+----------------+---------------+-----------+--------+-----------------+-------------------------+-----------+--------------------+-----------+-----------------+\n",
      "|          FDA15|        9.3|         Low Fat|    0.016047301|      Dairy|249.8092|           OUT049|                     1999|     Medium|              Tier 1|Supermarket|         3735.138|\n",
      "|          FDA15|        9.3|         Low Fat|    0.016047301|      Dairy|249.8092|           OUT049|                     1999|     Medium|              Tier 1|      Type1|         3735.138|\n",
      "|          DRC01|       5.92|         Regular|    0.019278216|Soft Drinks| 48.2692|           OUT018|                     2009|     Medium|              Tier 3|Supermarket|         443.4228|\n",
      "|          DRC01|       5.92|         Regular|    0.019278216|Soft Drinks| 48.2692|           OUT018|                     2009|     Medium|              Tier 3|      Type2|         443.4228|\n",
      "|          FDN15|       17.5|         Low Fat|    0.016760075|       Meat| 141.618|           OUT049|                     1999|     Medium|              Tier 1|Supermarket|          2097.27|\n",
      "|          FDN15|       17.5|         Low Fat|    0.016760075|       Meat| 141.618|           OUT049|                     1999|     Medium|              Tier 1|      Type1|          2097.27|\n",
      "+---------------+-----------+----------------+---------------+-----------+--------+-----------------+-------------------------+-----------+--------------------+-----------+-----------------+\n",
      "only showing top 6 rows\n",
      "\n"
     ]
    }
   ],
   "source": [
    "(df\n",
    " .withColumn('Outlet_Type', split('Outlet_Type', ' '))\n",
    " .withColumn('Outlet_Type', explode('Outlet_Type'))\n",
    " .show(6)\n",
    ")"
   ]
  },
  {
   "cell_type": "code",
   "execution_count": 47,
   "id": "acf03b3a",
   "metadata": {},
   "outputs": [
    {
     "name": "stdout",
     "output_type": "stream",
     "text": [
      "+---------------+-----------+----------------+---------------+--------------------+--------+-----------------+-------------------------+-----------+--------------------+--------------------+-----------------+----------+\n",
      "|Item_Identifier|Item_Weight|Item_Fat_Content|Item_Visibility|           Item_Type|Item_MRP|Outlet_Identifier|Outlet_Establishment_Year|Outlet_Size|Outlet_Location_Type|         Outlet_Type|Item_Outlet_Sales|Type1_Flag|\n",
      "+---------------+-----------+----------------+---------------+--------------------+--------+-----------------+-------------------------+-----------+--------------------+--------------------+-----------------+----------+\n",
      "|          FDA15|        9.3|         Low Fat|    0.016047301|               Dairy|249.8092|           OUT049|                     1999|     Medium|              Tier 1|[Supermarket, Type1]|         3735.138|      true|\n",
      "|          DRC01|       5.92|         Regular|    0.019278216|         Soft Drinks| 48.2692|           OUT018|                     2009|     Medium|              Tier 3|[Supermarket, Type2]|         443.4228|     false|\n",
      "|          FDN15|       17.5|         Low Fat|    0.016760075|                Meat| 141.618|           OUT049|                     1999|     Medium|              Tier 1|[Supermarket, Type1]|          2097.27|      true|\n",
      "|          FDX07|       19.2|         Regular|            0.0|Fruits and Vegeta...| 182.095|           OUT010|                     1998|       NULL|              Tier 3|    [Grocery, Store]|           732.38|     false|\n",
      "|          NCD19|       8.93|         Low Fat|            0.0|           Household| 53.8614|           OUT013|                     1987|       High|              Tier 3|[Supermarket, Type1]|         994.7052|      true|\n",
      "+---------------+-----------+----------------+---------------+--------------------+--------+-----------------+-------------------------+-----------+--------------------+--------------------+-----------------+----------+\n",
      "only showing top 5 rows\n",
      "\n"
     ]
    }
   ],
   "source": [
    "(df\n",
    " .withColumn('Outlet_Type', split('Outlet_Type', ' '))\n",
    " .withColumn('Type1_Flag', array_contains('Outlet_Type', 'Type1'))\n",
    " .show(5)\n",
    ")"
   ]
  },
  {
   "cell_type": "markdown",
   "id": "be8b82d1",
   "metadata": {},
   "source": [
    "#### Group By"
   ]
  },
  {
   "cell_type": "code",
   "execution_count": 48,
   "id": "eddaf772",
   "metadata": {},
   "outputs": [
    {
     "name": "stdout",
     "output_type": "stream",
     "text": [
      "+---------------------+---------+\n",
      "|Item_Type            |Total_MRP|\n",
      "+---------------------+---------+\n",
      "|Fruits and Vegetables|178124.08|\n",
      "|Snack Foods          |175433.92|\n",
      "|Household            |135976.53|\n",
      "|Frozen Foods         |118558.88|\n",
      "|Dairy                |101276.46|\n",
      "+---------------------+---------+\n",
      "only showing top 5 rows\n",
      "\n"
     ]
    }
   ],
   "source": [
    "(df.groupBy('Item_Type')\n",
    " .agg(round(sum('Item_MRP'), 2).alias('Total_MRP'))\n",
    " .sort(col('Total_MRP').desc())\n",
    " .show(5, truncate=False)\n",
    ")"
   ]
  },
  {
   "cell_type": "code",
   "execution_count": 49,
   "id": "869eda66",
   "metadata": {},
   "outputs": [
    {
     "name": "stdout",
     "output_type": "stream",
     "text": [
      "+---------------------+-----------+---------+\n",
      "|Item_Type            |Outlet_Size|Total_MRP|\n",
      "+---------------------+-----------+---------+\n",
      "|Snack Foods          |Medium     |60701.91 |\n",
      "|Fruits and Vegetables|Medium     |59047.22 |\n",
      "|Fruits and Vegetables|Unknown    |49758.73 |\n",
      "|Fruits and Vegetables|Small      |48646.79 |\n",
      "|Snack Foods          |Small      |48357.89 |\n",
      "|Snack Foods          |Unknown    |48143.24 |\n",
      "|Household            |Medium     |42688.57 |\n",
      "|Household            |Small      |39569.12 |\n",
      "|Household            |Unknown    |38567.79 |\n",
      "|Frozen Foods         |Medium     |38512.62 |\n",
      "+---------------------+-----------+---------+\n",
      "only showing top 10 rows\n",
      "\n"
     ]
    }
   ],
   "source": [
    "(df.fillna('Unknown', subset=['Outlet_Size'])\n",
    " .groupBy('Item_Type', 'Outlet_Size')\n",
    " .agg(round(sum('Item_MRP'), 2).alias('Total_MRP'))\n",
    " .sort(col('Total_MRP').desc())\n",
    " .show(10, truncate=False)\n",
    ")"
   ]
  },
  {
   "cell_type": "code",
   "execution_count": 50,
   "id": "e6369ea1",
   "metadata": {},
   "outputs": [
    {
     "name": "stdout",
     "output_type": "stream",
     "text": [
      "+---------------------+---------+-----------+\n",
      "|Item_Type            |Total_MRP|Average_MRP|\n",
      "+---------------------+---------+-----------+\n",
      "|Fruits and Vegetables|178124.08|144.58     |\n",
      "|Snack Foods          |175433.92|146.19     |\n",
      "|Household            |135976.53|149.42     |\n",
      "|Frozen Foods         |118558.88|138.5      |\n",
      "|Dairy                |101276.46|148.5      |\n",
      "+---------------------+---------+-----------+\n",
      "only showing top 5 rows\n",
      "\n"
     ]
    }
   ],
   "source": [
    "(df.groupBy('Item_Type')\n",
    " .agg(\n",
    "     round(sum('Item_MRP'), 2).alias('Total_MRP'),\n",
    "     round(avg('Item_MRP'), 2).alias('Average_MRP'),\n",
    "    )\n",
    " .sort(col('Total_MRP').desc())\n",
    " .show(5, truncate=False)\n",
    ")"
   ]
  },
  {
   "cell_type": "markdown",
   "id": "432e0d7a",
   "metadata": {},
   "source": [
    "### Data Transformation - Level 3"
   ]
  },
  {
   "cell_type": "markdown",
   "id": "6e752d11",
   "metadata": {},
   "source": [
    "#### Collect List"
   ]
  },
  {
   "cell_type": "code",
   "execution_count": 51,
   "id": "cb5dba8b",
   "metadata": {},
   "outputs": [
    {
     "name": "stdout",
     "output_type": "stream",
     "text": [
      "+-------------+------+\n",
      "|       player|league|\n",
      "+-------------+------+\n",
      "|Shohei Ohtani|   MLB|\n",
      "|  Aaron Judge|   MLB|\n",
      "|    Juan Soto|   MLB|\n",
      "|Lamar Jackson|   NFL|\n",
      "|   Josh Allen|   NFL|\n",
      "|  Kobe Bryant|   NBA|\n",
      "|  Luka Doncic|   NBA|\n",
      "+-------------+------+\n",
      "\n"
     ]
    }
   ],
   "source": [
    "data1 = [\n",
    "    ('Shohei Ohtani', 'MLB'),\n",
    "    ('Aaron Judge', 'MLB'),\n",
    "    ('Juan Soto', 'MLB'),\n",
    "    ('Lamar Jackson', 'NFL'),\n",
    "    ('Josh Allen', 'NFL'),\n",
    "    ('Kobe Bryant', 'NBA'),\n",
    "    ('Luka Doncic', 'NBA')\n",
    "]\n",
    "schema1 = 'player STRING, league STRING'\n",
    "\n",
    "df1 = spark.createDataFrame(data1, schema1)\n",
    "\n",
    "df1.show()"
   ]
  },
  {
   "cell_type": "code",
   "execution_count": 52,
   "id": "a9ab17c3",
   "metadata": {},
   "outputs": [
    {
     "name": "stdout",
     "output_type": "stream",
     "text": [
      "+------+---------------------------------------+\n",
      "|league|players                                |\n",
      "+------+---------------------------------------+\n",
      "|MLB   |[Shohei Ohtani, Aaron Judge, Juan Soto]|\n",
      "|NFL   |[Lamar Jackson, Josh Allen]            |\n",
      "|NBA   |[Kobe Bryant, Luka Doncic]             |\n",
      "+------+---------------------------------------+\n",
      "\n"
     ]
    }
   ],
   "source": [
    "(df1\n",
    " .groupBy('league')\n",
    " .agg(collect_list('player').alias('players'))\n",
    " .show(truncate=False)\n",
    ")"
   ]
  },
  {
   "cell_type": "markdown",
   "id": "6b24b1ec",
   "metadata": {},
   "source": [
    "#### Pivot"
   ]
  },
  {
   "cell_type": "code",
   "execution_count": 53,
   "id": "c78e6bc8",
   "metadata": {},
   "outputs": [
    {
     "name": "stdout",
     "output_type": "stream",
     "text": [
      "+--------------------+------+------+------+-------+\n",
      "|           Item_Type|  High|Medium| Small|Unknown|\n",
      "+--------------------+------+------+------+-------+\n",
      "|       Starchy Foods|158.16|148.42|150.27| 140.48|\n",
      "|        Baking Goods| 129.2|126.18|125.21| 126.67|\n",
      "|              Breads|133.76|140.86|145.52| 139.05|\n",
      "|Fruits and Vegeta...|145.57|142.97|148.31| 142.58|\n",
      "|                Meat|137.24|136.42| 145.7| 139.29|\n",
      "|         Hard Drinks|141.93|142.84|129.76| 134.39|\n",
      "|         Soft Drinks|131.76|128.27|132.86| 133.42|\n",
      "|           Household| 147.1|147.71|153.97| 147.77|\n",
      "|           Breakfast|147.49|134.54|130.57| 158.68|\n",
      "|               Dairy|153.51|148.51|145.94| 149.05|\n",
      "|         Snack Foods|145.85|148.78|144.35| 145.01|\n",
      "|              Others|132.58|127.84|137.89| 132.59|\n",
      "|             Seafood|134.86|140.86|144.28| 142.22|\n",
      "|              Canned|135.44|138.12| 142.3| 140.65|\n",
      "|        Frozen Foods|136.83|140.56|137.84| 137.49|\n",
      "|  Health and Hygiene|135.11| 128.7|131.83| 130.56|\n",
      "+--------------------+------+------+------+-------+\n",
      "\n"
     ]
    }
   ],
   "source": [
    "(df.fillna('Unknown', subset=['Outlet_Size'])\n",
    " .groupBy('Item_Type')\n",
    " .pivot('Outlet_Size')\n",
    " .agg(round(avg('Item_MRP'), 2))\n",
    " .show()\n",
    ")"
   ]
  },
  {
   "cell_type": "markdown",
   "id": "e9b096e1",
   "metadata": {},
   "source": [
    "#### When Otherwise"
   ]
  },
  {
   "cell_type": "code",
   "execution_count": 54,
   "id": "2f08e916",
   "metadata": {},
   "outputs": [
    {
     "name": "stdout",
     "output_type": "stream",
     "text": [
      "+---------------+-----------+----------------+---------------+--------------------+--------+-----------------+-------------------------+-----------+--------------------+-----------------+-----------------+--------+---------------+\n",
      "|Item_Identifier|Item_Weight|Item_Fat_Content|Item_Visibility|           Item_Type|Item_MRP|Outlet_Identifier|Outlet_Establishment_Year|Outlet_Size|Outlet_Location_Type|      Outlet_Type|Item_Outlet_Sales|Veg_Flag|   Veg_Exp_Flag|\n",
      "+---------------+-----------+----------------+---------------+--------------------+--------+-----------------+-------------------------+-----------+--------------------+-----------------+-----------------+--------+---------------+\n",
      "|          FDA15|        9.3|         Low Fat|    0.016047301|               Dairy|249.8092|           OUT049|                     1999|     Medium|              Tier 1|Supermarket Type1|         3735.138|    true|Veg Inexpensive|\n",
      "|          DRC01|       5.92|         Regular|    0.019278216|         Soft Drinks| 48.2692|           OUT018|                     2009|     Medium|              Tier 3|Supermarket Type2|         443.4228|    true|  Veg Expensive|\n",
      "|          FDN15|       17.5|         Low Fat|    0.016760075|                Meat| 141.618|           OUT049|                     1999|     Medium|              Tier 1|Supermarket Type1|          2097.27|   false|  Not Available|\n",
      "|          FDX07|       19.2|         Regular|            0.0|Fruits and Vegeta...| 182.095|           OUT010|                     1998|       NULL|              Tier 3|    Grocery Store|           732.38|    true|Veg Inexpensive|\n",
      "|          NCD19|       8.93|         Low Fat|            0.0|           Household| 53.8614|           OUT013|                     1987|       High|              Tier 3|Supermarket Type1|         994.7052|    true|  Veg Expensive|\n",
      "|          FDP36|     10.395|         Regular|            0.0|        Baking Goods| 51.4008|           OUT018|                     2009|     Medium|              Tier 3|Supermarket Type2|         556.6088|    true|  Veg Expensive|\n",
      "|          FDO10|      13.65|         Regular|    0.012741089|         Snack Foods| 57.6588|           OUT013|                     1987|       High|              Tier 3|Supermarket Type1|         343.5528|    true|  Veg Expensive|\n",
      "|          FDP10|       NULL|         Low Fat|    0.127469857|         Snack Foods|107.7622|           OUT027|                     1985|     Medium|              Tier 3|Supermarket Type3|        4022.7636|    true|Veg Inexpensive|\n",
      "+---------------+-----------+----------------+---------------+--------------------+--------+-----------------+-------------------------+-----------+--------------------+-----------------+-----------------+--------+---------------+\n",
      "only showing top 8 rows\n",
      "\n"
     ]
    }
   ],
   "source": [
    "(\n",
    "    df\n",
    "    .withColumn(\n",
    "        'Veg_Flag',\n",
    "        when(col('Item_Type') == 'Meat', False)\n",
    "        .otherwise(True)\n",
    "    )\n",
    "    .withColumn(\n",
    "        'Veg_Exp_Flag',\n",
    "        when((col('Veg_Flag') == True) & (col('Item_MRP') > 100), 'Veg Inexpensive')\n",
    "        .when((col('Veg_Flag') == True) & (col('Item_MRP') < 100), 'Veg Expensive')\n",
    "        .otherwise('Not Available')\n",
    "    )\n",
    "    .show(8)\n",
    ")"
   ]
  },
  {
   "cell_type": "markdown",
   "id": "7a057cf8",
   "metadata": {},
   "source": [
    "#### Joins"
   ]
  },
  {
   "cell_type": "code",
   "execution_count": 55,
   "id": "ab669a7c",
   "metadata": {},
   "outputs": [],
   "source": [
    "player_data = [\n",
    "    ('1', 'Shohei Ohtani', 'l03'),\n",
    "    ('2', 'Aaron Judge', 'l03'),\n",
    "    ('3', 'Juan Soto', 'l03'),\n",
    "    ('4', 'Lamar Jackson', 'l01'),\n",
    "    ('5', 'Josh Allen', 'l01'),\n",
    "    ('6', 'Kobe Bryant', 'l02'),\n",
    "    ('7', 'Luka Doncic', 'l02'),\n",
    "    ('8', 'Connor McDavid', 'l04'),\n",
    "    ('9', 'Lamine Yamal', 'f00'),\n",
    "    ('10', 'Kylian Mbappe', 'f00')\n",
    "]\n",
    "player_schema = 'id STRING, player STRING, league_id STRING'\n",
    "\n",
    "player_df = spark.createDataFrame(player_data, player_schema)\n",
    "\n",
    "league_data = [\n",
    "    ('l01', 'NFL'),\n",
    "    ('l02', 'NBA'),\n",
    "    ('l03', 'MLB'),\n",
    "    ('l04', 'NHL'),\n",
    "    ('l05', 'PL')\n",
    "]\n",
    "league_schema = 'id STRING, league STRING'\n",
    "\n",
    "league_df = spark.createDataFrame(league_data, league_schema)"
   ]
  },
  {
   "cell_type": "code",
   "execution_count": 56,
   "id": "f19f4b7d",
   "metadata": {},
   "outputs": [
    {
     "name": "stdout",
     "output_type": "stream",
     "text": [
      "+---+--------------+---------+\n",
      "| id|        player|league_id|\n",
      "+---+--------------+---------+\n",
      "|  1| Shohei Ohtani|      l03|\n",
      "|  2|   Aaron Judge|      l03|\n",
      "|  3|     Juan Soto|      l03|\n",
      "|  4| Lamar Jackson|      l01|\n",
      "|  5|    Josh Allen|      l01|\n",
      "|  6|   Kobe Bryant|      l02|\n",
      "|  7|   Luka Doncic|      l02|\n",
      "|  8|Connor McDavid|      l04|\n",
      "|  9|  Lamine Yamal|      f00|\n",
      "| 10| Kylian Mbappe|      f00|\n",
      "+---+--------------+---------+\n",
      "\n"
     ]
    }
   ],
   "source": [
    "player_df.show()"
   ]
  },
  {
   "cell_type": "code",
   "execution_count": 57,
   "id": "67c6646a",
   "metadata": {},
   "outputs": [
    {
     "name": "stdout",
     "output_type": "stream",
     "text": [
      "+---+------+\n",
      "| id|league|\n",
      "+---+------+\n",
      "|l01|   NFL|\n",
      "|l02|   NBA|\n",
      "|l03|   MLB|\n",
      "|l04|   NHL|\n",
      "|l05|    PL|\n",
      "+---+------+\n",
      "\n"
     ]
    }
   ],
   "source": [
    "league_df.show()"
   ]
  },
  {
   "cell_type": "code",
   "execution_count": 58,
   "id": "4d8f6885",
   "metadata": {},
   "outputs": [
    {
     "name": "stdout",
     "output_type": "stream",
     "text": [
      "+--------------+------+\n",
      "|        player|league|\n",
      "+--------------+------+\n",
      "| Lamar Jackson|   NFL|\n",
      "|    Josh Allen|   NFL|\n",
      "|   Kobe Bryant|   NBA|\n",
      "|   Luka Doncic|   NBA|\n",
      "| Shohei Ohtani|   MLB|\n",
      "|   Aaron Judge|   MLB|\n",
      "|     Juan Soto|   MLB|\n",
      "|Connor McDavid|   NHL|\n",
      "+--------------+------+\n",
      "\n"
     ]
    }
   ],
   "source": [
    "(player_df\n",
    " .join(league_df, player_df['league_id']==league_df['id'])\n",
    " .select('player', 'league')\n",
    " .show()\n",
    ")"
   ]
  },
  {
   "cell_type": "code",
   "execution_count": 59,
   "id": "f2fe8a10",
   "metadata": {},
   "outputs": [
    {
     "name": "stdout",
     "output_type": "stream",
     "text": [
      "+--------------+---------+------+\n",
      "|        player|league_id|league|\n",
      "+--------------+---------+------+\n",
      "| Shohei Ohtani|      l03|   MLB|\n",
      "|   Aaron Judge|      l03|   MLB|\n",
      "|     Juan Soto|      l03|   MLB|\n",
      "| Lamar Jackson|      l01|   NFL|\n",
      "|    Josh Allen|      l01|   NFL|\n",
      "|   Kobe Bryant|      l02|   NBA|\n",
      "|   Luka Doncic|      l02|   NBA|\n",
      "|Connor McDavid|      l04|   NHL|\n",
      "|  Lamine Yamal|      f00|  NULL|\n",
      "| Kylian Mbappe|      f00|  NULL|\n",
      "+--------------+---------+------+\n",
      "\n"
     ]
    }
   ],
   "source": [
    "(player_df\n",
    " .join(league_df, player_df['league_id']==league_df['id'], 'left')\n",
    " .select('player', 'league_id', 'league')\n",
    " .show()\n",
    ")"
   ]
  },
  {
   "cell_type": "code",
   "execution_count": 60,
   "id": "ebd3fd34",
   "metadata": {},
   "outputs": [
    {
     "name": "stdout",
     "output_type": "stream",
     "text": [
      "+--------------+---------+------+\n",
      "|        player|league_id|league|\n",
      "+--------------+---------+------+\n",
      "|    Josh Allen|      l01|   NFL|\n",
      "| Lamar Jackson|      l01|   NFL|\n",
      "|   Luka Doncic|      l02|   NBA|\n",
      "|   Kobe Bryant|      l02|   NBA|\n",
      "|     Juan Soto|      l03|   MLB|\n",
      "|   Aaron Judge|      l03|   MLB|\n",
      "| Shohei Ohtani|      l03|   MLB|\n",
      "|Connor McDavid|      l04|   NHL|\n",
      "|          NULL|     NULL|    PL|\n",
      "+--------------+---------+------+\n",
      "\n"
     ]
    }
   ],
   "source": [
    "(player_df\n",
    " .join(league_df, player_df['league_id']==league_df['id'], 'right')\n",
    " .select('player', 'league_id', 'league')\n",
    " .show()\n",
    ")"
   ]
  },
  {
   "cell_type": "code",
   "execution_count": 61,
   "id": "f7d0fb88",
   "metadata": {},
   "outputs": [
    {
     "name": "stdout",
     "output_type": "stream",
     "text": [
      "+---+-------------+---------+\n",
      "| id|       player|league_id|\n",
      "+---+-------------+---------+\n",
      "|  9| Lamine Yamal|      f00|\n",
      "| 10|Kylian Mbappe|      f00|\n",
      "+---+-------------+---------+\n",
      "\n"
     ]
    }
   ],
   "source": [
    "(player_df\n",
    " .join(league_df, player_df['league_id']==league_df['id'], 'anti')\n",
    " .show()\n",
    ")"
   ]
  },
  {
   "cell_type": "markdown",
   "id": "ec755e01",
   "metadata": {},
   "source": [
    "### Window Functions"
   ]
  },
  {
   "cell_type": "code",
   "execution_count": 62,
   "id": "aebd988b",
   "metadata": {},
   "outputs": [],
   "source": [
    "from pyspark.sql.window import Window"
   ]
  },
  {
   "cell_type": "code",
   "execution_count": 63,
   "id": "58f5a4b6",
   "metadata": {},
   "outputs": [
    {
     "name": "stdout",
     "output_type": "stream",
     "text": [
      "+---------------+-----------+----------------+---------------+-----------+--------+-----------------+-------------------------+-----------+--------------------+-----------------+-----------------+-------+\n",
      "|Item_Identifier|Item_Weight|Item_Fat_Content|Item_Visibility|  Item_Type|Item_MRP|Outlet_Identifier|Outlet_Establishment_Year|Outlet_Size|Outlet_Location_Type|      Outlet_Type|Item_Outlet_Sales|Row_Col|\n",
      "+---------------+-----------+----------------+---------------+-----------+--------+-----------------+-------------------------+-----------+--------------------+-----------------+-----------------+-------+\n",
      "|          DRA12|       11.6|         Low Fat|    0.041177505|Soft Drinks|140.3154|           OUT017|                     2007|       NULL|              Tier 2|Supermarket Type1|        2552.6772|      1|\n",
      "|          DRA12|       11.6|         Low Fat|    0.040911824|Soft Drinks|142.3154|           OUT013|                     1987|       High|              Tier 3|Supermarket Type1|        2552.6772|      2|\n",
      "|          DRA12|       11.6|         Low Fat|            0.0|Soft Drinks|141.6154|           OUT045|                     2002|       NULL|              Tier 2|Supermarket Type1|        3829.0158|      3|\n",
      "|          DRA12|       11.6|              LF|            0.0|Soft Drinks|141.9154|           OUT035|                     2004|      Small|              Tier 2|Supermarket Type1|         992.7078|      4|\n",
      "|          DRA12|       11.6|         Low Fat|    0.041112694|Soft Drinks|142.0154|           OUT018|                     2009|     Medium|              Tier 3|Supermarket Type2|         850.8924|      5|\n",
      "+---------------+-----------+----------------+---------------+-----------+--------+-----------------+-------------------------+-----------+--------------------+-----------------+-----------------+-------+\n",
      "only showing top 5 rows\n",
      "\n"
     ]
    }
   ],
   "source": [
    "(df\n",
    " .withColumn(\n",
    "     'Row_Col', \n",
    "     row_number().over(Window.orderBy('Item_Identifier'))\n",
    "    )\n",
    " .show(5)\n",
    ")"
   ]
  },
  {
   "cell_type": "code",
   "execution_count": 64,
   "id": "4979b444",
   "metadata": {},
   "outputs": [
    {
     "name": "stdout",
     "output_type": "stream",
     "text": [
      "+-----------------+---------------+----+----------+\n",
      "|Outlet_Identifier|Total_Sales_Qty|Rank|Dense_Rank|\n",
      "+-----------------+---------------+----+----------+\n",
      "|           OUT027|            935|   1|         1|\n",
      "|           OUT013|            932|   2|         2|\n",
      "|           OUT046|            930|   3|         3|\n",
      "|           OUT035|            930|   3|         3|\n",
      "|           OUT049|            930|   3|         3|\n",
      "|           OUT045|            929|   6|         4|\n",
      "|           OUT018|            928|   7|         5|\n",
      "|           OUT017|            926|   8|         6|\n",
      "|           OUT010|            555|   9|         7|\n",
      "|           OUT019|            528|  10|         8|\n",
      "+-----------------+---------------+----+----------+\n",
      "\n"
     ]
    }
   ],
   "source": [
    "# specify window\n",
    "w = Window.orderBy(desc('Total_Sales_Qty'))\n",
    "\n",
    "(df\n",
    " .groupBy('Outlet_Identifier')\n",
    " .agg(round(count('Outlet_Identifier'), 2).alias('Total_Sales_Qty'))\n",
    " .withColumn('Rank', rank().over(w))\n",
    " .withColumn('Dense_Rank', dense_rank().over(w))\n",
    " .show(10)\n",
    ")"
   ]
  },
  {
   "cell_type": "code",
   "execution_count": 65,
   "id": "eb48cdda",
   "metadata": {},
   "outputs": [
    {
     "name": "stdout",
     "output_type": "stream",
     "text": [
      "+---------------------+-----------+-----------+\n",
      "|Item_Type            |Total_Sales|Cum_Sales  |\n",
      "+---------------------+-----------+-----------+\n",
      "|Fruits and Vegetables|2820059.82 |2820059.82 |\n",
      "|Snack Foods          |2732786.09 |5552845.91 |\n",
      "|Household            |2055493.71 |7608339.62 |\n",
      "|Frozen Foods         |1825734.79 |9434074.41 |\n",
      "|Dairy                |1522594.05 |10956668.46|\n",
      "|Canned               |1444151.49 |12400819.95|\n",
      "|Baking Goods         |1265525.34 |13666345.29|\n",
      "|Health and Hygiene   |1045200.14 |14711545.43|\n",
      "|Meat                 |917565.61  |15629111.04|\n",
      "|Soft Drinks          |892897.72  |16522008.76|\n",
      "|Breads               |553237.19  |17075245.95|\n",
      "|Hard Drinks          |457793.43  |17533039.38|\n",
      "|Starchy Foods        |351401.25  |17884440.63|\n",
      "|Others               |325517.61  |18209958.24|\n",
      "|Breakfast            |232298.95  |18442257.19|\n",
      "|Seafood              |148868.22  |18591125.41|\n",
      "+---------------------+-----------+-----------+\n",
      "\n"
     ]
    }
   ],
   "source": [
    "(df\n",
    " .groupBy('Item_Type')\n",
    " .agg(round(sum('Item_Outlet_Sales'), 2).alias('Total_Sales'))\n",
    " .withColumn(\n",
    "     'Cum_Sales', \n",
    "     sum('Total_Sales').over(Window\n",
    "                             .orderBy(desc('Total_Sales'))\n",
    "                             .rowsBetween(Window.unboundedPreceding, Window.currentRow)\n",
    "                            )\n",
    "                        .cast(DecimalType(18, 2))\n",
    "    )\n",
    " .show(truncate=False)\n",
    ")"
   ]
  },
  {
   "cell_type": "markdown",
   "id": "270cb00c",
   "metadata": {},
   "source": [
    "### User Defined Functions (UDF)"
   ]
  },
  {
   "cell_type": "code",
   "execution_count": 66,
   "id": "dc4cc5b2",
   "metadata": {},
   "outputs": [],
   "source": [
    "def my_func(x):\n",
    "    return x * x"
   ]
  },
  {
   "cell_type": "code",
   "execution_count": 67,
   "id": "53c81c40",
   "metadata": {},
   "outputs": [],
   "source": [
    "my_udf = udf(my_func)"
   ]
  },
  {
   "cell_type": "code",
   "execution_count": 68,
   "id": "85461779",
   "metadata": {},
   "outputs": [
    {
     "name": "stdout",
     "output_type": "stream",
     "text": [
      "+--------+------------------+\n",
      "|Item_MRP|            FooBar|\n",
      "+--------+------------------+\n",
      "|249.8092|62404.636404640005|\n",
      "| 48.2692|2329.9156686399997|\n",
      "| 141.618|      20055.657924|\n",
      "| 182.095|      33158.589025|\n",
      "| 53.8614|2901.0504099600003|\n",
      "+--------+------------------+\n",
      "only showing top 5 rows\n",
      "\n"
     ]
    }
   ],
   "source": [
    "(df\n",
    " .withColumn('FooBar', my_udf('Item_MRP'))\n",
    " .select('Item_MRP', 'FooBar')\n",
    " .show(5)\n",
    ")"
   ]
  },
  {
   "cell_type": "markdown",
   "id": "c5adbf0e",
   "metadata": {},
   "source": [
    "### Spark SQL"
   ]
  },
  {
   "cell_type": "code",
   "execution_count": 69,
   "id": "686c69bf",
   "metadata": {},
   "outputs": [],
   "source": [
    "%load_ext sparksql_magic\n",
    "\n",
    "# Create Temp View\n",
    "df.createTempView('my_view')"
   ]
  },
  {
   "cell_type": "code",
   "execution_count": 70,
   "id": "71ed1c66",
   "metadata": {},
   "outputs": [
    {
     "data": {
      "text/html": [
       "<table><tr style=\"border-bottom: 1px solid\"><td style=\"font-weight: bold\">Item_Identifier</td><td style=\"font-weight: bold\">Item_Weight</td><td style=\"font-weight: bold\">Item_Fat_Content</td><td style=\"font-weight: bold\">Item_Visibility</td><td style=\"font-weight: bold\">Item_Type</td><td style=\"font-weight: bold\">Item_MRP</td><td style=\"font-weight: bold\">Outlet_Identifier</td><td style=\"font-weight: bold\">Outlet_Establishment_Year</td><td style=\"font-weight: bold\">Outlet_Size</td><td style=\"font-weight: bold\">Outlet_Location_Type</td><td style=\"font-weight: bold\">Outlet_Type</td><td style=\"font-weight: bold\">Item_Outlet_Sales</td></tr><tr><td>FDA15</td><td>9.3</td><td>Low Fat</td><td>0.016047301</td><td>Dairy</td><td>249.8092</td><td>OUT049</td><td>1999</td><td>Medium</td><td>Tier 1</td><td>Supermarket Type1</td><td>3735.138</td></tr><tr><td>DRC01</td><td>5.92</td><td>Regular</td><td>0.019278216</td><td>Soft Drinks</td><td>48.2692</td><td>OUT018</td><td>2009</td><td>Medium</td><td>Tier 3</td><td>Supermarket Type2</td><td>443.4228</td></tr><tr><td>FDN15</td><td>17.5</td><td>Low Fat</td><td>0.016760075</td><td>Meat</td><td>141.618</td><td>OUT049</td><td>1999</td><td>Medium</td><td>Tier 1</td><td>Supermarket Type1</td><td>2097.27</td></tr><tr><td>FDX07</td><td>19.2</td><td>Regular</td><td>0.0</td><td>Fruits and Vegetables</td><td>182.095</td><td>OUT010</td><td>1998</td><td>null</td><td>Tier 3</td><td>Grocery Store</td><td>732.38</td></tr><tr><td>NCD19</td><td>8.93</td><td>Low Fat</td><td>0.0</td><td>Household</td><td>53.8614</td><td>OUT013</td><td>1987</td><td>High</td><td>Tier 3</td><td>Supermarket Type1</td><td>994.7052</td></tr><tr><td>FDP36</td><td>10.395</td><td>Regular</td><td>0.0</td><td>Baking Goods</td><td>51.4008</td><td>OUT018</td><td>2009</td><td>Medium</td><td>Tier 3</td><td>Supermarket Type2</td><td>556.6088</td></tr><tr><td>FDO10</td><td>13.65</td><td>Regular</td><td>0.012741089</td><td>Snack Foods</td><td>57.6588</td><td>OUT013</td><td>1987</td><td>High</td><td>Tier 3</td><td>Supermarket Type1</td><td>343.5528</td></tr><tr><td>FDP10</td><td>null</td><td>Low Fat</td><td>0.127469857</td><td>Snack Foods</td><td>107.7622</td><td>OUT027</td><td>1985</td><td>Medium</td><td>Tier 3</td><td>Supermarket Type3</td><td>4022.7636</td></tr><tr><td>FDH17</td><td>16.2</td><td>Regular</td><td>0.016687114</td><td>Frozen Foods</td><td>96.9726</td><td>OUT045</td><td>2002</td><td>null</td><td>Tier 2</td><td>Supermarket Type1</td><td>1076.5986</td></tr><tr><td>FDU28</td><td>19.2</td><td>Regular</td><td>0.09444959</td><td>Frozen Foods</td><td>187.8214</td><td>OUT017</td><td>2007</td><td>null</td><td>Tier 2</td><td>Supermarket Type1</td><td>4710.535</td></tr></table>"
      ],
      "text/plain": [
       "<IPython.core.display.HTML object>"
      ]
     },
     "execution_count": 70,
     "metadata": {},
     "output_type": "execute_result"
    }
   ],
   "source": [
    "%%sparksql\n",
    "\n",
    "SELECT * FROM my_view LIMIT 10"
   ]
  },
  {
   "cell_type": "code",
   "execution_count": 71,
   "id": "ee0b92ea",
   "metadata": {},
   "outputs": [],
   "source": [
    "df_sql = spark.sql(\"SELECT * FROM my_view WHERE Outlet_Size = 'High'\")"
   ]
  },
  {
   "cell_type": "code",
   "execution_count": 72,
   "id": "20fe47d3",
   "metadata": {},
   "outputs": [
    {
     "name": "stdout",
     "output_type": "stream",
     "text": [
      "+---------------+-----------+----------------+---------------+--------------------+--------+-----------------+-------------------------+-----------+--------------------+-----------------+-----------------+\n",
      "|Item_Identifier|Item_Weight|Item_Fat_Content|Item_Visibility|           Item_Type|Item_MRP|Outlet_Identifier|Outlet_Establishment_Year|Outlet_Size|Outlet_Location_Type|      Outlet_Type|Item_Outlet_Sales|\n",
      "+---------------+-----------+----------------+---------------+--------------------+--------+-----------------+-------------------------+-----------+--------------------+-----------------+-----------------+\n",
      "|          NCD19|       8.93|         Low Fat|            0.0|           Household| 53.8614|           OUT013|                     1987|       High|              Tier 3|Supermarket Type1|         994.7052|\n",
      "|          FDO10|      13.65|         Regular|    0.012741089|         Snack Foods| 57.6588|           OUT013|                     1987|       High|              Tier 3|Supermarket Type1|         343.5528|\n",
      "|          FDF32|      16.35|         Low Fat|      0.0680243|Fruits and Vegeta...|196.4426|           OUT013|                     1987|       High|              Tier 3|Supermarket Type1|         1977.426|\n",
      "|          FDN22|      18.85|         Regular|    0.138190277|         Snack Foods|250.8724|           OUT013|                     1987|       High|              Tier 3|Supermarket Type1|         3775.086|\n",
      "|          DRJ59|      11.65|         low fat|    0.019356132|         Hard Drinks| 39.1164|           OUT013|                     1987|       High|              Tier 3|Supermarket Type1|         308.9312|\n",
      "|          FDK43|        9.8|         Low Fat|     0.02681843|                Meat| 126.002|           OUT013|                     1987|       High|              Tier 3|Supermarket Type1|         2150.534|\n",
      "|          FDL50|      12.15|         Regular|    0.042277867|              Canned|126.5046|           OUT013|                     1987|       High|              Tier 3|Supermarket Type1|         373.5138|\n",
      "|          FDM40|     10.195|         Low Fat|    0.159803853|        Frozen Foods|141.5154|           OUT013|                     1987|       High|              Tier 3|Supermarket Type1|         850.8924|\n",
      "|          FDR13|      9.895|         Regular|    0.028696932|              Canned|117.0492|           OUT013|                     1987|       High|              Tier 3|Supermarket Type1|         810.9444|\n",
      "|          FDL12|      15.85|         Regular|    0.121531501|        Baking Goods|  59.222|           OUT013|                     1987|       High|              Tier 3|Supermarket Type1|           599.22|\n",
      "|          DRB48|      16.75|         Regular|    0.024832806|         Soft Drinks| 38.7822|           OUT013|                     1987|       High|              Tier 3|Supermarket Type1|         667.7974|\n",
      "|          FDH14|       17.1|         Regular|      0.0467696|              Canned|141.1838|           OUT013|                     1987|       High|              Tier 3|Supermarket Type1|        2247.7408|\n",
      "|          FDA47|       10.5|         Regular|    0.116576702|        Baking Goods| 163.121|           OUT013|                     1987|       High|              Tier 3|Supermarket Type1|         1794.331|\n",
      "|          DRK49|      14.15|         Low Fat|    0.035913805|         Soft Drinks| 41.4138|           OUT013|                     1987|       High|              Tier 3|Supermarket Type1|          812.276|\n",
      "|          DRG23|       8.88|         Low Fat|    0.086708987|         Hard Drinks|151.7682|           OUT013|                     1987|       High|              Tier 3|Supermarket Type1|          762.341|\n",
      "|          FDQ28|       14.0|         Regular|    0.060376776|        Frozen Foods|154.5656|           OUT013|                     1987|       High|              Tier 3|Supermarket Type1|        2471.4496|\n",
      "|          FDM22|       14.0|         Regular|     0.04192285|         Snack Foods|  54.764|           OUT013|                     1987|       High|              Tier 3|Supermarket Type1|           1331.6|\n",
      "|          FDM15|       11.8|         Regular|    0.057373797|                Meat|151.4366|           OUT013|                     1987|       High|              Tier 3|Supermarket Type1|        1360.2294|\n",
      "|          FDS31|       13.1|         Regular|    0.044155597|Fruits and Vegeta...|178.8318|           OUT013|                     1987|       High|              Tier 3|Supermarket Type1|        3969.4996|\n",
      "|          FDU50|       5.75|         Regular|    0.075107656|               Dairy|112.8176|           OUT013|                     1987|       High|              Tier 3|Supermarket Type1|        1374.2112|\n",
      "+---------------+-----------+----------------+---------------+--------------------+--------+-----------------+-------------------------+-----------+--------------------+-----------------+-----------------+\n",
      "only showing top 20 rows\n",
      "\n"
     ]
    }
   ],
   "source": [
    "df_sql.show()"
   ]
  }
 ],
 "metadata": {
  "kernelspec": {
   "display_name": "spark",
   "language": "python",
   "name": "python3"
  },
  "language_info": {
   "codemirror_mode": {
    "name": "ipython",
    "version": 3
   },
   "file_extension": ".py",
   "mimetype": "text/x-python",
   "name": "python",
   "nbconvert_exporter": "python",
   "pygments_lexer": "ipython3",
   "version": "3.10.16"
  }
 },
 "nbformat": 4,
 "nbformat_minor": 5
}
